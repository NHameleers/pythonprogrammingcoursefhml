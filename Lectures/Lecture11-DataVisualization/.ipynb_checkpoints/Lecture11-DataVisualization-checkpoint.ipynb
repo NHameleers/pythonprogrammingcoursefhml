{
 "cells": [
  {
   "cell_type": "code",
   "execution_count": 3,
   "id": "354a0ffc",
   "metadata": {
    "ExecuteTime": {
     "end_time": "2022-01-06T14:52:27.208830Z",
     "start_time": "2022-01-06T14:52:27.190833Z"
    }
   },
   "outputs": [],
   "source": [
    "import altair as alt\n",
    "\n",
    "import pandas as pd"
   ]
  },
  {
   "cell_type": "code",
   "execution_count": null,
   "id": "28420342",
   "metadata": {},
   "outputs": [],
   "source": []
  },
  {
   "cell_type": "markdown",
   "id": "28764515",
   "metadata": {},
   "source": [
    "# Contents and brainstorm\n",
    "\n",
    "* Why data visualization?\n",
    "* What is data visualization? Data encoded into visual representation that yields intuition (see examples in history for intuition argument...)\n",
    "* History\n",
    "* Grammar of graphics:\n",
    "    1. Data (properties) are **encoded** into a visual representation that yields intuition.\n",
    "    2. Data are represented by **marks**.\n",
    "    3. **scales** map encodings to values.\n",
    "* Choosing/making an effective visualization\n",
    "    * Effective in terms of human perception, data, research question, audience/framing\n",
    "    * _\"Which encoding, mark, and scale are most effective for my data, for my research questions, for the message I want to convey?\"_\n",
    "    * Perception and data --> Bertin's semiology of graphics\n",
    "    * Research question types --> Revisited in practical\n",
    "        * Distribution\n",
    "        * Ranking\n",
    "        * Part of a whole\n",
    "        * Evolution\n",
    "        * Correlation\n",
    "        * Geographic\n",
    "        * Relations --> Network\n",
    "    \n",
    "    \n"
   ]
  },
  {
   "cell_type": "markdown",
   "id": "5e20e7ee",
   "metadata": {},
   "source": [
    "# Why data visualization\n",
    "\n",
    "1. Explore\n",
    "2. Analyze\n",
    "3. Present"
   ]
  },
  {
   "cell_type": "markdown",
   "id": "54e86cb8",
   "metadata": {},
   "source": [
    "# What is data visualization?\n",
    "\n",
    "A graphical representation of the data.\n",
    "\n",
    "Data are **encoded** into a visual representation that *yields intuition*. Data are represented by **marks**, and **scales** map encodings to values."
   ]
  },
  {
   "cell_type": "markdown",
   "id": "e7f4ad38",
   "metadata": {},
   "source": [
    "# History of data visualization"
   ]
  },
  {
   "cell_type": "markdown",
   "id": "2ad39c5c",
   "metadata": {},
   "source": [
    "https://www.visualcapitalist.com/wp-content/uploads/2018/04/data-viz-cholera.html\n",
    "\n",
    "<img src=\"http://www.visualcapitalist.com/wp-content/uploads/2018/04/john-snow-cholera-map-huge.jpg\">"
   ]
  },
  {
   "cell_type": "markdown",
   "id": "df245ef3",
   "metadata": {
    "ExecuteTime": {
     "end_time": "2022-01-06T15:49:02.248070Z",
     "start_time": "2022-01-06T15:49:02.238071Z"
    }
   },
   "source": [
    "<img src=\"https://images.squarespace-cdn.com/content/v1/571a9b3cd51cd4f1ca1c03b5/1560869294779-VZJUB6GPGL32CDO0IPIJ/Nightingale-mortality.jpg?format=1000w\">"
   ]
  },
  {
   "cell_type": "markdown",
   "id": "782ef4db",
   "metadata": {},
   "source": [
    "# Grammar of graphics"
   ]
  },
  {
   "cell_type": "markdown",
   "id": "99838e66",
   "metadata": {
    "ExecuteTime": {
     "end_time": "2022-01-06T16:01:38.476162Z",
     "start_time": "2022-01-06T16:01:38.458161Z"
    }
   },
   "source": [
    "<img src=\"https://github.com/NHameleers/pythonprogrammingcoursefhml/blob/master/Lectures/Lecture11-DataVisualization/images/grammar_of_graphics.png?raw=true\">\n",
    "\n",
    "Let's revisit that definition:\n",
    "\n",
    "Data are **encoded** into a visual representation that *yields intuition*. Data are represented by **marks**, and **scales** map encodings to values."
   ]
  },
  {
   "cell_type": "markdown",
   "id": "a25ac452",
   "metadata": {},
   "source": []
  },
  {
   "cell_type": "code",
   "execution_count": null,
   "id": "8c210762",
   "metadata": {},
   "outputs": [],
   "source": []
  },
  {
   "cell_type": "markdown",
   "id": "3dbdd882",
   "metadata": {},
   "source": [
    "Hans Rosling. Watch after lecture and see what you recognize.\n",
    "\n",
    "Which encodings does he use\n",
    "\n",
    "Which mark\n",
    "\n",
    "Scale?\n",
    "\n",
    "Data\n",
    "\n",
    "Transformations\n",
    "\n",
    "Guide?\n",
    "\n",
    "https://www.youtube.com/watch?v=Z8t4k0Q8e8Y"
   ]
  }
 ],
 "metadata": {
  "celltoolbar": "Slideshow",
  "kernelspec": {
   "display_name": "Python [conda env:envs]",
   "language": "python",
   "name": "conda-env-envs-py"
  },
  "language_info": {
   "codemirror_mode": {
    "name": "ipython",
    "version": 3
   },
   "file_extension": ".py",
   "mimetype": "text/x-python",
   "name": "python",
   "nbconvert_exporter": "python",
   "pygments_lexer": "ipython3",
   "version": "3.9.7"
  }
 },
 "nbformat": 4,
 "nbformat_minor": 5
}
