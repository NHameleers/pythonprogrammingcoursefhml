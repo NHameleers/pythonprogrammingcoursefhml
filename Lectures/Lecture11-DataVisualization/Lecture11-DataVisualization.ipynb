{
 "cells": [
  {
   "cell_type": "code",
   "execution_count": 3,
   "id": "5a907b78",
   "metadata": {
    "ExecuteTime": {
     "end_time": "2022-01-06T14:52:27.208830Z",
     "start_time": "2022-01-06T14:52:27.190833Z"
    }
   },
   "outputs": [],
   "source": [
    "import altair as alt\n",
    "\n",
    "import pandas as pd"
   ]
  },
  {
   "cell_type": "code",
   "execution_count": null,
   "id": "c8dd8152",
   "metadata": {},
   "outputs": [],
   "source": []
  },
  {
   "cell_type": "markdown",
   "id": "2d0b638c",
   "metadata": {},
   "source": [
    "# Contents and brainstorm\n",
    "\n",
    "* Why data visualization?\n",
    "* What is data visualization? Data encoded into visual representation that yields intuition (see examples in history for intuition argument...)\n",
    "* History\n",
    "* Grammar of graphics:\n",
    "    1. Data (properties) are **encoded** into a visual representation that yields intuition.\n",
    "    2. Data are represented by **marks**.\n",
    "    3. **scales** map encodings to values.\n",
    "* Choosing/making an effective visualization\n",
    "    * Effective in terms of human perception, data, research question, audience/framing\n",
    "    * _\"Which encoding, mark, and scale are most effective for my data, for my research questions, for the message I want to convey?\"_\n",
    "    * Perception and data --> Bertin's semiology of graphics\n",
    "    * Research question types --> Revisited in practical\n",
    "        * Distribution\n",
    "        * Ranking\n",
    "        * Part of a whole\n",
    "        * Evolution\n",
    "        * Correlation\n",
    "        * Geographic\n",
    "        * Relations --> Network\n",
    "    \n",
    "    \n"
   ]
  },
  {
   "cell_type": "markdown",
   "id": "4c3325d4",
   "metadata": {},
   "source": [
    "# Why data visualization\n",
    "\n",
    "1. Explore\n",
    "2. Analyze\n",
    "3. Present"
   ]
  },
  {
   "cell_type": "markdown",
   "id": "5821f660",
   "metadata": {},
   "source": [
    "# What is data visualization?\n",
    "\n",
    "A graphical representation of the data.\n",
    "\n",
    "Data properties are **encoded** into a visual representation that *yields intuition*. Data are represented by **marks**, and **scales** map encodings to values."
   ]
  },
  {
   "cell_type": "markdown",
   "id": "94b1d680",
   "metadata": {},
   "source": [
    "# History of data visualization"
   ]
  },
  {
   "cell_type": "markdown",
   "id": "a33b8ba2",
   "metadata": {},
   "source": [
    "https://www.visualcapitalist.com/wp-content/uploads/2018/04/data-viz-cholera.html\n",
    "\n",
    "<img src=\"http://www.visualcapitalist.com/wp-content/uploads/2018/04/john-snow-cholera-map-huge.jpg\">"
   ]
  },
  {
   "cell_type": "markdown",
   "id": "7943a5a1",
   "metadata": {
    "ExecuteTime": {
     "end_time": "2022-01-06T15:49:02.248070Z",
     "start_time": "2022-01-06T15:49:02.238071Z"
    }
   },
   "source": [
    "<img src=\"https://images.squarespace-cdn.com/content/v1/571a9b3cd51cd4f1ca1c03b5/1560869294779-VZJUB6GPGL32CDO0IPIJ/Nightingale-mortality.jpg?format=1000w\">"
   ]
  },
  {
   "cell_type": "markdown",
   "id": "98fd6f09",
   "metadata": {},
   "source": [
    "Hans Rosling. Watch after lecture and see what you recognize.\n",
    "\n",
    "Which encodings does he use\n",
    "\n",
    "Which mark\n",
    "\n",
    "Scale?\n",
    "\n",
    "Data\n",
    "\n",
    "Transformations\n",
    "\n",
    "Guide?\n",
    "\n",
    "https://www.youtube.com/watch?v=Z8t4k0Q8e8Y"
   ]
  },
  {
   "cell_type": "markdown",
   "id": "e5ea9f92",
   "metadata": {},
   "source": [
    "# Grammar of graphics\n",
    "\n",
    "Data properties are **encoded** into a visual representation that *yields intuition*. Data are represented by **marks**, and **scales** map encodings to values."
   ]
  },
  {
   "cell_type": "code",
   "execution_count": null,
   "id": "be43d8cf",
   "metadata": {},
   "outputs": [],
   "source": [
    "<img src=\"\">"
   ]
  },
  {
   "cell_type": "code",
   "execution_count": null,
   "id": "80dc2c0e",
   "metadata": {},
   "outputs": [],
   "source": []
  },
  {
   "cell_type": "code",
   "execution_count": null,
   "id": "74f73796",
   "metadata": {},
   "outputs": [],
   "source": []
  }
 ],
 "metadata": {
  "kernelspec": {
   "display_name": "Python [conda env:envs]",
   "language": "python",
   "name": "conda-env-envs-py"
  },
  "language_info": {
   "codemirror_mode": {
    "name": "ipython",
    "version": 3
   },
   "file_extension": ".py",
   "mimetype": "text/x-python",
   "name": "python",
   "nbconvert_exporter": "python",
   "pygments_lexer": "ipython3",
   "version": "3.9.7"
  }
 },
 "nbformat": 4,
 "nbformat_minor": 5
}
