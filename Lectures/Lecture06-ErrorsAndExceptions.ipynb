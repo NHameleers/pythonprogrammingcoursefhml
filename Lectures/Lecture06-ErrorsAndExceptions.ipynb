{
 "cells": [
  {
   "cell_type": "markdown",
   "id": "918b29a7",
   "metadata": {
    "slideshow": {
     "slide_type": "slide"
    }
   },
   "source": [
    "# Lecture 6: Errors and Exceptions"
   ]
  },
  {
   "cell_type": "markdown",
   "id": "92da1257",
   "metadata": {
    "slideshow": {
     "slide_type": "slide"
    }
   },
   "source": [
    "## Contents today\n",
    "* Recap of last weeks\n",
    "    * Data structures\n",
    "    * Control flow (similar to and relevant for today's content)\n",
    "* Receiving Errors and dealing with them\n",
    "* You're programming now! Return the favour and serve the user some Errors/Exceptions\n"
   ]
  },
  {
   "cell_type": "markdown",
   "id": "c4905f04",
   "metadata": {
    "slideshow": {
     "slide_type": "slide"
    }
   },
   "source": [
    "## Recap: Data structures\n",
    "\n",
    "![Recap data structures](../images/recap_data_structures.png)"
   ]
  },
  {
   "cell_type": "markdown",
   "id": "a966d489",
   "metadata": {
    "slideshow": {
     "slide_type": "slide"
    }
   },
   "source": [
    "## Recap: Control Flow\n",
    "\n",
    "![Recap programming statements](../images/recap_program_statements.png)"
   ]
  },
  {
   "cell_type": "markdown",
   "id": "cd0c94fe",
   "metadata": {
    "slideshow": {
     "slide_type": "subslide"
    }
   },
   "source": [
    "## Recap: Control Flow\n",
    "\n",
    "![Recap control flow](../images/recap_control_flows.png)"
   ]
  },
  {
   "cell_type": "markdown",
   "id": "0791e482",
   "metadata": {
    "slideshow": {
     "slide_type": "subslide"
    }
   },
   "source": [
    "## Recap: Control Flow\n",
    "\n",
    "![Recap conditional statements](../images/recap_conditional_statements.png)"
   ]
  },
  {
   "cell_type": "markdown",
   "id": "919fc5dd",
   "metadata": {
    "slideshow": {
     "slide_type": "subslide"
    }
   },
   "source": [
    "## Recap: Control Flow\n",
    "\n",
    "![Recap for loops](../images/recap_for_loops.png)"
   ]
  },
  {
   "cell_type": "markdown",
   "id": "69232f57",
   "metadata": {
    "slideshow": {
     "slide_type": "slide"
    }
   },
   "source": [
    "# You already learned a lot!\n",
    "\n",
    "* Data types\n",
    "    * Numbers/Integer/Float/String/Boolean/Sequence\n",
    "* Data structures\n",
    "    * List/Dictionary/Set/Tuple\n",
    "* Variables\n",
    "* Object Oriented Programming\n",
    "    * Classes/Objects/Attributes/Methods\n",
    "* Operators\n",
    "    * Arithmetic/Assignment/Comparison/Logical/Identity/Membership\n",
    "* Control Flow\n",
    "    * If/elif/else\n",
    "    * for/while\n",
    "    * pass/break/continue"
   ]
  },
  {
   "cell_type": "markdown",
   "id": "fcdeee45",
   "metadata": {
    "slideshow": {
     "slide_type": "slide"
    }
   },
   "source": [
    "# A lot of it by trial and error...\n",
    "\n",
    "<img src=\"../images/typing_start.jpg\" width=\"250\">\n",
    "\n",
    "![SyntaxError](../images/error_SyntaxError1.png)"
   ]
  },
  {
   "cell_type": "markdown",
   "id": "515d678f",
   "metadata": {},
   "source": [
    "<img src=\"../images/typing_difficult.jpg\" width=\"250\">"
   ]
  },
  {
   "cell_type": "markdown",
   "id": "12523e5d",
   "metadata": {
    "slideshow": {
     "slide_type": "subslide"
    }
   },
   "source": [
    "![NameError](../images/error_NameError.png)\n",
    "\n",
    "<img src=\"../images/typing_frustrated.jpg\" width=\"250\">"
   ]
  },
  {
   "cell_type": "markdown",
   "id": "e74fbcc8",
   "metadata": {
    "slideshow": {
     "slide_type": "subslide"
    }
   },
   "source": [
    "![IndexError](../images/error_IndexError.png)\n",
    "\n",
    "<img src=\"../images/typing_slam.jpg\" width=\"250\">"
   ]
  },
  {
   "cell_type": "markdown",
   "id": "fa1d035a",
   "metadata": {
    "slideshow": {
     "slide_type": "slide"
    }
   },
   "source": [
    "<img src=\"../images/dont_panic.jpg\">"
   ]
  },
  {
   "cell_type": "markdown",
   "id": "8cd3fb6b",
   "metadata": {
    "slideshow": {
     "slide_type": "fragment"
    }
   },
   "source": [
    "# Errors are not as problematic as they appear to be"
   ]
  },
  {
   "cell_type": "markdown",
   "id": "ee6f6e4d",
   "metadata": {
    "slideshow": {
     "slide_type": "fragment"
    }
   },
   "source": [
    "# They are just trying to tell you something, so let's have a closer look"
   ]
  },
  {
   "cell_type": "markdown",
   "id": "69397610",
   "metadata": {},
   "source": [
    "# Components of an error\n",
    "\n",
    "* Error type\n",
    "* Traceback"
   ]
  },
  {
   "cell_type": "code",
   "execution_count": 17,
   "id": "c9700c0d",
   "metadata": {},
   "outputs": [
    {
     "ename": "NameError",
     "evalue": "name 'ethnicity' is not defined",
     "output_type": "error",
     "traceback": [
      "\u001b[1;31m---------------------------------------------------------------------------\u001b[0m",
      "\u001b[1;31mNameError\u001b[0m                                 Traceback (most recent call last)",
      "\u001b[1;32mC:\\Users\\NIELS~1.HAM\\AppData\\Local\\Temp/ipykernel_18312/4112194549.py\u001b[0m in \u001b[0;36m<module>\u001b[1;34m\u001b[0m\n\u001b[0;32m      5\u001b[0m         \u001b[0mself\u001b[0m\u001b[1;33m.\u001b[0m\u001b[0methnicity\u001b[0m\u001b[1;33m=\u001b[0m\u001b[0methnicity\u001b[0m\u001b[1;33m\u001b[0m\u001b[1;33m\u001b[0m\u001b[0m\n\u001b[0;32m      6\u001b[0m \u001b[1;33m\u001b[0m\u001b[0m\n\u001b[1;32m----> 7\u001b[1;33m \u001b[0mp1\u001b[0m \u001b[1;33m=\u001b[0m \u001b[0mPatient\u001b[0m\u001b[1;33m(\u001b[0m\u001b[1;34m'Niels'\u001b[0m\u001b[1;33m)\u001b[0m\u001b[1;33m\u001b[0m\u001b[1;33m\u001b[0m\u001b[0m\n\u001b[0m",
      "\u001b[1;32mC:\\Users\\NIELS~1.HAM\\AppData\\Local\\Temp/ipykernel_18312/4112194549.py\u001b[0m in \u001b[0;36m__init__\u001b[1;34m(self, name)\u001b[0m\n\u001b[0;32m      3\u001b[0m     \u001b[1;32mdef\u001b[0m \u001b[0m__init__\u001b[0m\u001b[1;33m(\u001b[0m\u001b[0mself\u001b[0m\u001b[1;33m,\u001b[0m \u001b[0mname\u001b[0m\u001b[1;33m)\u001b[0m\u001b[1;33m:\u001b[0m\u001b[1;33m\u001b[0m\u001b[1;33m\u001b[0m\u001b[0m\n\u001b[0;32m      4\u001b[0m         \u001b[0mself\u001b[0m\u001b[1;33m.\u001b[0m\u001b[0mname\u001b[0m\u001b[1;33m=\u001b[0m\u001b[0mname\u001b[0m\u001b[1;33m\u001b[0m\u001b[1;33m\u001b[0m\u001b[0m\n\u001b[1;32m----> 5\u001b[1;33m         \u001b[0mself\u001b[0m\u001b[1;33m.\u001b[0m\u001b[0methnicity\u001b[0m\u001b[1;33m=\u001b[0m\u001b[0methnicity\u001b[0m\u001b[1;33m\u001b[0m\u001b[1;33m\u001b[0m\u001b[0m\n\u001b[0m\u001b[0;32m      6\u001b[0m \u001b[1;33m\u001b[0m\u001b[0m\n\u001b[0;32m      7\u001b[0m \u001b[0mp1\u001b[0m \u001b[1;33m=\u001b[0m \u001b[0mPatient\u001b[0m\u001b[1;33m(\u001b[0m\u001b[1;34m'Niels'\u001b[0m\u001b[1;33m)\u001b[0m\u001b[1;33m\u001b[0m\u001b[1;33m\u001b[0m\u001b[0m\n",
      "\u001b[1;31mNameError\u001b[0m: name 'ethnicity' is not defined"
     ]
    }
   ],
   "source": [
    "class Patient:\n",
    "        \n",
    "    def __init__(self, name):\n",
    "        self.name=name\n",
    "        self.ethnicity=ethnicity\n",
    "        \n",
    "p1 = Patient('Niels')"
   ]
  },
  {
   "cell_type": "markdown",
   "id": "5d577ff0",
   "metadata": {},
   "source": [
    "# Types of errors\n",
    "\n",
    "* SyntaxError\n",
    "* NameError\n",
    "* IndexError\n",
    "* IndentationError\n",
    "* KeyError\n",
    "* FileNotFoundError\n",
    "* IOError\n",
    "* ImportError\n",
    "* TypeError\n",
    "* UnicodeError\n",
    "* ValueError\n",
    "* ZeroDivisionError"
   ]
  },
  {
   "cell_type": "markdown",
   "id": "81f37107",
   "metadata": {},
   "source": [
    "# Let's look at a few of these"
   ]
  },
  {
   "cell_type": "markdown",
   "id": "26fc9d97",
   "metadata": {},
   "source": [
    "# SyntaxError\n",
    "\n"
   ]
  },
  {
   "cell_type": "code",
   "execution_count": 18,
   "id": "32d851f2",
   "metadata": {},
   "outputs": [
    {
     "ename": "SyntaxError",
     "evalue": "invalid syntax (Temp/ipykernel_18312/2779481092.py, line 3)",
     "output_type": "error",
     "traceback": [
      "\u001b[1;36m  File \u001b[1;32m\"C:\\Users\\NIELS~1.HAM\\AppData\\Local\\Temp/ipykernel_18312/2779481092.py\"\u001b[1;36m, line \u001b[1;32m3\u001b[0m\n\u001b[1;33m    def __init__(self, name)\u001b[0m\n\u001b[1;37m                            ^\u001b[0m\n\u001b[1;31mSyntaxError\u001b[0m\u001b[1;31m:\u001b[0m invalid syntax\n"
     ]
    }
   ],
   "source": [
    "class Patient:\n",
    "        \n",
    "    def __init__(self, name)\n",
    "        self.name=name"
   ]
  },
  {
   "cell_type": "markdown",
   "id": "e79ca3e1",
   "metadata": {},
   "source": [
    "# NameError"
   ]
  },
  {
   "cell_type": "markdown",
   "id": "dd4b600f",
   "metadata": {},
   "source": [
    "# IndentationError"
   ]
  },
  {
   "cell_type": "markdown",
   "id": "898d08b4",
   "metadata": {},
   "source": [
    "# KeyError"
   ]
  },
  {
   "cell_type": "code",
   "execution_count": null,
   "id": "6980de53",
   "metadata": {},
   "outputs": [],
   "source": []
  },
  {
   "cell_type": "markdown",
   "id": "08ec3c89",
   "metadata": {},
   "source": [
    "# StackOverflow"
   ]
  },
  {
   "cell_type": "code",
   "execution_count": null,
   "id": "2133bd78",
   "metadata": {},
   "outputs": [],
   "source": []
  },
  {
   "cell_type": "markdown",
   "id": "841f9d85",
   "metadata": {},
   "source": [
    "# Raising Errors"
   ]
  },
  {
   "cell_type": "code",
   "execution_count": null,
   "id": "d7a0b390",
   "metadata": {},
   "outputs": [],
   "source": []
  }
 ],
 "metadata": {
  "celltoolbar": "Slideshow",
  "kernelspec": {
   "display_name": "Python 3 (ipykernel)",
   "language": "python",
   "name": "python3"
  },
  "language_info": {
   "codemirror_mode": {
    "name": "ipython",
    "version": 3
   },
   "file_extension": ".py",
   "mimetype": "text/x-python",
   "name": "python",
   "nbconvert_exporter": "python",
   "pygments_lexer": "ipython3",
   "version": "3.9.7"
  }
 },
 "nbformat": 4,
 "nbformat_minor": 5
}
