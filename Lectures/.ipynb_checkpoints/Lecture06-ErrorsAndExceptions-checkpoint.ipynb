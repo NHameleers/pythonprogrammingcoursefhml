{
 "cells": [
  {
   "cell_type": "markdown",
   "id": "5314cc41",
   "metadata": {
    "slideshow": {
     "slide_type": "slide"
    }
   },
   "source": [
    "# Lecture 6: Errors and Exceptions"
   ]
  },
  {
   "cell_type": "markdown",
   "id": "070cdea5",
   "metadata": {
    "slideshow": {
     "slide_type": "slide"
    }
   },
   "source": [
    "## Contents today\n",
    "* Recap of last weeks\n",
    "    * Data structures\n",
    "    * Control flow (similar to and relevant for today's content)\n",
    "* Receiving Errors and dealing with them\n",
    "* You're programming now! Return the favour and serve the user some Errors/Exceptions\n"
   ]
  },
  {
   "cell_type": "markdown",
   "id": "2c6aa8c7",
   "metadata": {
    "slideshow": {
     "slide_type": "slide"
    }
   },
   "source": [
    "## Recap: Data structures\n",
    "\n",
    "![Recap data structures](../images/recap_data_structures.png)"
   ]
  },
  {
   "cell_type": "markdown",
   "id": "1027741d",
   "metadata": {
    "slideshow": {
     "slide_type": "slide"
    }
   },
   "source": [
    "## Recap: Control Flow\n",
    "\n",
    "![Recap programming statements](../images/recap_program_statements.png)"
   ]
  },
  {
   "cell_type": "markdown",
   "id": "7384420c",
   "metadata": {
    "slideshow": {
     "slide_type": "subslide"
    }
   },
   "source": [
    "## Recap: Control Flow\n",
    "\n",
    "![Recap control flow](../images/recap_control_flows.png)"
   ]
  },
  {
   "cell_type": "markdown",
   "id": "eb57faec",
   "metadata": {
    "slideshow": {
     "slide_type": "subslide"
    }
   },
   "source": [
    "## Recap: Control Flow\n",
    "\n",
    "![Recap conditional statements](../images/recap_conditional_statements.png)"
   ]
  },
  {
   "cell_type": "markdown",
   "id": "252bd657",
   "metadata": {
    "slideshow": {
     "slide_type": "subslide"
    }
   },
   "source": [
    "## Recap: Control Flow\n",
    "\n",
    "![Recap for loops](../images/recap_for_loops.png)"
   ]
  },
  {
   "cell_type": "markdown",
   "id": "637f2baf",
   "metadata": {
    "slideshow": {
     "slide_type": "slide"
    }
   },
   "source": [
    "# You already learned a lot!\n",
    "\n",
    "* Data types\n",
    "    * Numbers/Integer/Float/String/Boolean/Sequence\n",
    "* Data structures\n",
    "    * List/Dictionary/Set/Tuple\n",
    "* Variables\n",
    "* Object Oriented Programming\n",
    "    * Classes/Objects/Attributes/Methods\n",
    "* Operators\n",
    "    * Arithmetic/Assignment/Comparison/Logical/Identity/Membership\n",
    "* Control Flow\n",
    "    * If/elif/else\n",
    "    * for/while\n",
    "    * pass/break/continue"
   ]
  },
  {
   "cell_type": "markdown",
   "id": "519d2d7d",
   "metadata": {
    "slideshow": {
     "slide_type": "slide"
    }
   },
   "source": [
    "# A lot of it by trial and error...\n",
    "\n",
    "![SyntaxError](../images/error_SyntaxError1.png)"
   ]
  },
  {
   "cell_type": "markdown",
   "id": "668a8180",
   "metadata": {
    "slideshow": {
     "slide_type": "subslide"
    }
   },
   "source": [
    "![NameError](../images/error_NameError.png)"
   ]
  },
  {
   "cell_type": "markdown",
   "id": "aba0f640",
   "metadata": {
    "slideshow": {
     "slide_type": "subslide"
    }
   },
   "source": [
    "![IndexError](../images/error_IndexError.png)"
   ]
  },
  {
   "cell_type": "code",
   "execution_count": null,
   "id": "36d1a8e2",
   "metadata": {},
   "outputs": [],
   "source": []
  }
 ],
 "metadata": {
  "celltoolbar": "Slideshow",
  "kernelspec": {
   "display_name": "Python 3 (ipykernel)",
   "language": "python",
   "name": "python3"
  },
  "language_info": {
   "codemirror_mode": {
    "name": "ipython",
    "version": 3
   },
   "file_extension": ".py",
   "mimetype": "text/x-python",
   "name": "python",
   "nbconvert_exporter": "python",
   "pygments_lexer": "ipython3",
   "version": "3.9.7"
  }
 },
 "nbformat": 4,
 "nbformat_minor": 5
}
