{
 "cells": [
  {
   "cell_type": "markdown",
   "id": "918b29a7",
   "metadata": {
    "slideshow": {
     "slide_type": "slide"
    }
   },
   "source": [
    "# Intro to Python Programming\n",
    "\n",
    "# Lecture 6: Errors and Exceptions\n",
    "\n",
    "<img src=\"./images/intro_snake_screen.jpeg\" width=\"500\">\n",
    "\n",
    "<p style=\"font-size:10px\">image by <a href=\"https://towardsdatascience.com/if-your-python-code-throws-errors-check-these-things-first-a93d8a9036f1\">Ari Joury</a></p>"
   ]
  },
  {
   "cell_type": "markdown",
   "id": "92da1257",
   "metadata": {
    "slideshow": {
     "slide_type": "slide"
    }
   },
   "source": [
    "## Contents today\n",
    "0. Recap:\n",
    "    * Data structures\n",
    "    * Control flow (today's content is an extension of control flow)\n",
    "1. Why do errors even exist?\n",
    "2. Receiving Errors and dealing with them\n"
   ]
  },
  {
   "cell_type": "markdown",
   "id": "d3293c55",
   "metadata": {
    "slideshow": {
     "slide_type": "fragment"
    }
   },
   "source": [
    "3. You're programming now! Return the favour and serve the user some Errors\n"
   ]
  },
  {
   "cell_type": "markdown",
   "id": "c4905f04",
   "metadata": {
    "slideshow": {
     "slide_type": "slide"
    }
   },
   "source": [
    "## Recap: Data structures\n",
    "\n",
    "![Recap data structures](./images/recap_data_structures.png)"
   ]
  },
  {
   "cell_type": "markdown",
   "id": "a966d489",
   "metadata": {
    "slideshow": {
     "slide_type": "slide"
    }
   },
   "source": [
    "## Recap: Control Flow\n",
    "\n",
    "![Recap programming statements](./images/recap_program_statements.png)"
   ]
  },
  {
   "cell_type": "markdown",
   "id": "cd0c94fe",
   "metadata": {
    "slideshow": {
     "slide_type": "subslide"
    }
   },
   "source": [
    "## Recap: Control Flow\n",
    "\n",
    "![Recap control flow](./images/recap_control_flows.png)"
   ]
  },
  {
   "cell_type": "markdown",
   "id": "919fc5dd",
   "metadata": {
    "slideshow": {
     "slide_type": "subslide"
    }
   },
   "source": [
    "## Recap: Control Flow\n",
    "\n",
    "![Recap for loops](./images/recap_for_loops.png)"
   ]
  },
  {
   "cell_type": "code",
   "execution_count": 1,
   "id": "b94f8792",
   "metadata": {
    "ExecuteTime": {
     "end_time": "2021-11-14T21:07:55.673591Z",
     "start_time": "2021-11-14T21:07:55.658588Z"
    },
    "scrolled": true,
    "slideshow": {
     "slide_type": "subslide"
    }
   },
   "outputs": [
    {
     "name": "stdout",
     "output_type": "stream",
     "text": [
      "Visara\n",
      "Vikas\n",
      "Sil\n",
      "Niels\n"
     ]
    }
   ],
   "source": [
    "four_names = ['Visara', 'Vikas', 'Sil', 'Niels']\n",
    "\n",
    "# if you simply need to iterate over something, a while loop is NOT the right solution\n",
    "i = 0\n",
    "while i < len(four_names):\n",
    "    print(four_names[i])\n",
    "    i += 1"
   ]
  },
  {
   "cell_type": "code",
   "execution_count": 2,
   "id": "4e48d6c9",
   "metadata": {
    "ExecuteTime": {
     "end_time": "2021-11-14T21:07:55.683591Z",
     "start_time": "2021-11-14T21:07:55.677089Z"
    },
    "slideshow": {
     "slide_type": "fragment"
    }
   },
   "outputs": [
    {
     "name": "stdout",
     "output_type": "stream",
     "text": [
      "Visara\n",
      "Vikas\n",
      "Sil\n",
      "Niels\n"
     ]
    }
   ],
   "source": [
    "# use a for loop instead\n",
    "for name in four_names:\n",
    "    print(name)"
   ]
  },
  {
   "cell_type": "markdown",
   "id": "36c0806e",
   "metadata": {
    "slideshow": {
     "slide_type": "subslide"
    }
   },
   "source": [
    "You might be saying: *\"But the while loop also works!\"*\n",
    "Yes it does, but..."
   ]
  },
  {
   "cell_type": "code",
   "execution_count": 3,
   "id": "2a40a823",
   "metadata": {
    "ExecuteTime": {
     "end_time": "2021-11-14T21:07:55.701088Z",
     "start_time": "2021-11-14T21:07:55.687136Z"
    },
    "slideshow": {
     "slide_type": "fragment"
    }
   },
   "outputs": [
    {
     "name": "stdout",
     "output_type": "stream",
     "text": [
      "The Zen of Python, by Tim Peters\n",
      "\n",
      "Beautiful is better than ugly.\n",
      "Explicit is better than implicit.\n",
      "Simple is better than complex.\n",
      "Complex is better than complicated.\n",
      "Flat is better than nested.\n",
      "Sparse is better than dense.\n",
      "Readability counts.\n",
      "Special cases aren't special enough to break the rules.\n",
      "Although practicality beats purity.\n",
      "Errors should never pass silently.\n",
      "Unless explicitly silenced.\n",
      "In the face of ambiguity, refuse the temptation to guess.\n",
      "There should be one-- and preferably only one --obvious way to do it.\n",
      "Although that way may not be obvious at first unless you're Dutch.\n",
      "Now is better than never.\n",
      "Although never is often better than *right* now.\n",
      "If the implementation is hard to explain, it's a bad idea.\n",
      "If the implementation is easy to explain, it may be a good idea.\n",
      "Namespaces are one honking great idea -- let's do more of those!\n"
     ]
    }
   ],
   "source": [
    "import this"
   ]
  },
  {
   "cell_type": "markdown",
   "id": "a9a6328d",
   "metadata": {
    "slideshow": {
     "slide_type": "subslide"
    }
   },
   "source": [
    "Useful to remember: a string is also a sequence!"
   ]
  },
  {
   "cell_type": "code",
   "execution_count": 4,
   "id": "b79f0a4f",
   "metadata": {
    "ExecuteTime": {
     "end_time": "2021-11-14T21:07:55.714090Z",
     "start_time": "2021-11-14T21:07:55.703588Z"
    },
    "slideshow": {
     "slide_type": "fragment"
    }
   },
   "outputs": [
    {
     "name": "stdout",
     "output_type": "stream",
     "text": [
      "P\n",
      "y\n",
      "t\n",
      "h\n",
      "o\n",
      "n\n"
     ]
    }
   ],
   "source": [
    "for letter in 'Python':\n",
    "    print(letter)"
   ]
  },
  {
   "cell_type": "markdown",
   "id": "0791e482",
   "metadata": {
    "slideshow": {
     "slide_type": "subslide"
    }
   },
   "source": [
    "## Recap: Control Flow\n",
    "\n",
    "![Recap conditional statements](./images/recap_conditional_statements.png)"
   ]
  },
  {
   "cell_type": "markdown",
   "id": "69232f57",
   "metadata": {
    "slideshow": {
     "slide_type": "slide"
    }
   },
   "source": [
    "# You already learned a lot!\n",
    "\n",
    "* Data types\n",
    "    * Numbers/Integer/Float/String/Boolean/Sequence\n",
    "* Data structures\n",
    "    * List/Dictionary/Set/Tuple\n",
    "* Variables\n",
    "* Object Oriented Programming\n",
    "    * Classes/Objects/Attributes/Methods\n",
    "* Operators\n",
    "    * Arithmetic/Assignment/Comparison/Logical/Identity/Membership\n",
    "* Control Flow\n",
    "    * If/elif/else\n",
    "    * for/while\n",
    "    * pass/break/continue"
   ]
  },
  {
   "cell_type": "markdown",
   "id": "fcdeee45",
   "metadata": {
    "slideshow": {
     "slide_type": "slide"
    }
   },
   "source": [
    "# A lot of it by trial and error...\n",
    "\n",
    "\"Create a list of 4 names and access the fourth name in the list\"\n",
    "\n",
    "<img src=\"./images/typing_start.jpg\" width=\"250\">\n",
    "\n",
    "![SyntaxError](./images/error_SyntaxError1.png)"
   ]
  },
  {
   "cell_type": "markdown",
   "id": "515d678f",
   "metadata": {
    "slideshow": {
     "slide_type": "subslide"
    }
   },
   "source": [
    "<img src=\"./images/typing_difficult.jpg\" width=\"250\">"
   ]
  },
  {
   "cell_type": "markdown",
   "id": "12523e5d",
   "metadata": {
    "slideshow": {
     "slide_type": "fragment"
    }
   },
   "source": [
    "![NameError](./images/error_NameError.png)\n",
    "\n"
   ]
  },
  {
   "cell_type": "markdown",
   "id": "e74fbcc8",
   "metadata": {
    "slideshow": {
     "slide_type": "subslide"
    }
   },
   "source": [
    "<img src=\"./images/typing_frustrated.jpg\" width=\"250\">\n",
    "\n",
    "![IndexError](./images/error_IndexError.png)\n"
   ]
  },
  {
   "cell_type": "markdown",
   "id": "c497a919",
   "metadata": {
    "slideshow": {
     "slide_type": "fragment"
    }
   },
   "source": [
    "\n",
    "<img src=\"./images/typing_slam.jpg\" width=\"250\">"
   ]
  },
  {
   "cell_type": "markdown",
   "id": "fa1d035a",
   "metadata": {
    "slideshow": {
     "slide_type": "slide"
    }
   },
   "source": [
    "<img src=\"./images/dont_panic.jpg\">"
   ]
  },
  {
   "cell_type": "markdown",
   "id": "8cd3fb6b",
   "metadata": {
    "slideshow": {
     "slide_type": "fragment"
    }
   },
   "source": [
    "# Errors are not as problematic as they appear to be"
   ]
  },
  {
   "cell_type": "markdown",
   "id": "ee6f6e4d",
   "metadata": {
    "slideshow": {
     "slide_type": "fragment"
    }
   },
   "source": [
    "# They are just trying to tell you something, so let's have a closer look"
   ]
  },
  {
   "cell_type": "markdown",
   "id": "7335d918",
   "metadata": {
    "slideshow": {
     "slide_type": "slide"
    }
   },
   "source": [
    "# 1. Errors and Exceptions: Why do they even exist?"
   ]
  },
  {
   "cell_type": "markdown",
   "id": "39151e83",
   "metadata": {
    "slideshow": {
     "slide_type": "fragment"
    }
   },
   "source": [
    "# Well. Because things go wrong."
   ]
  },
  {
   "cell_type": "markdown",
   "id": "462ec183",
   "metadata": {
    "slideshow": {
     "slide_type": "fragment"
    }
   },
   "source": [
    "# And when they go wrong, we don't want everything to come crashing down..."
   ]
  },
  {
   "cell_type": "markdown",
   "id": "b781cc7d",
   "metadata": {
    "slideshow": {
     "slide_type": "subslide"
    }
   },
   "source": [
    "## Anyone remember this?\n",
    "\n",
    "<img src=\"./images/bsod1.png\">"
   ]
  },
  {
   "cell_type": "markdown",
   "id": "d97189e5",
   "metadata": {
    "slideshow": {
     "slide_type": "subslide"
    }
   },
   "source": [
    "## Probably you guys are more familiar with\n",
    "\n",
    "<img src=\"./images/bsod2.jpg\">"
   ]
  },
  {
   "cell_type": "markdown",
   "id": "357cedcd",
   "metadata": {
    "slideshow": {
     "slide_type": "subslide"
    }
   },
   "source": [
    "## But either way, restarting the entire computer is not a very elegant way to handle something going wrong in a program\n",
    "\n",
    "<img src=\"./images/restarting.jpg\" width=\"500\">"
   ]
  },
  {
   "cell_type": "markdown",
   "id": "e2021e50",
   "metadata": {
    "slideshow": {
     "slide_type": "subslide"
    }
   },
   "source": [
    "# This is their purpose!\n",
    "# Errors help the program exit gracefully when something goes (horribly) wrong\n",
    "\n",
    "<img src=\"./images/graceful_exit.png\" width=\"800\">"
   ]
  },
  {
   "cell_type": "code",
   "execution_count": 5,
   "id": "d2a73e1c",
   "metadata": {
    "ExecuteTime": {
     "end_time": "2021-11-14T21:07:55.722629Z",
     "start_time": "2021-11-14T21:07:55.716589Z"
    },
    "slideshow": {
     "slide_type": "subslide"
    }
   },
   "outputs": [
    {
     "ename": "SyntaxError",
     "evalue": "invalid syntax (Temp/ipykernel_11144/2779481092.py, line 3)",
     "output_type": "error",
     "traceback": [
      "\u001b[1;36m  File \u001b[1;32m\"C:\\Users\\NIELS~1.HAM\\AppData\\Local\\Temp/ipykernel_11144/2779481092.py\"\u001b[1;36m, line \u001b[1;32m3\u001b[0m\n\u001b[1;33m    def __init__(self, name)\u001b[0m\n\u001b[1;37m                            ^\u001b[0m\n\u001b[1;31mSyntaxError\u001b[0m\u001b[1;31m:\u001b[0m invalid syntax\n"
     ]
    }
   ],
   "source": [
    "class Patient:\n",
    "        \n",
    "    def __init__(self, name)\n",
    "        self.name=name"
   ]
  },
  {
   "cell_type": "markdown",
   "id": "72479980",
   "metadata": {
    "slideshow": {
     "slide_type": "fragment"
    }
   },
   "source": [
    "## It's not pleasant to look at, but it is a whole lot better than restarting the computer"
   ]
  },
  {
   "cell_type": "markdown",
   "id": "56d9066b",
   "metadata": {
    "slideshow": {
     "slide_type": "slide"
    }
   },
   "source": [
    "# 2. Errors and Exceptions: Receiving and dealing with them\n",
    "\n",
    "There are 2 broad classes, namely:\n",
    "1. Syntax Errors: There's something wrong with the 'grammar' of our code\n",
    "2. Exceptions: Errors detected during execution are called exceptions and are not unconditionally fatal\n",
    "\n",
    "If an exception is not *handled*, it will result in an error message"
   ]
  },
  {
   "cell_type": "markdown",
   "id": "69397610",
   "metadata": {
    "slideshow": {
     "slide_type": "subslide"
    }
   },
   "source": [
    "# Components of an error message\n",
    "\n",
    "* Error type\n",
    "* Traceback\n",
    "* There's arrows!"
   ]
  },
  {
   "cell_type": "code",
   "execution_count": 7,
   "id": "c9700c0d",
   "metadata": {
    "ExecuteTime": {
     "end_time": "2021-11-14T21:08:04.930116Z",
     "start_time": "2021-11-14T21:08:04.917622Z"
    },
    "slideshow": {
     "slide_type": "fragment"
    }
   },
   "outputs": [
    {
     "ename": "NameError",
     "evalue": "name 'ethnicity' is not defined",
     "output_type": "error",
     "traceback": [
      "\u001b[1;31m---------------------------------------------------------------------------\u001b[0m",
      "\u001b[1;31mNameError\u001b[0m                                 Traceback (most recent call last)",
      "\u001b[1;32mC:\\Users\\NIELS~1.HAM\\AppData\\Local\\Temp/ipykernel_11144/4112194549.py\u001b[0m in \u001b[0;36m<module>\u001b[1;34m\u001b[0m\n\u001b[0;32m      5\u001b[0m         \u001b[0mself\u001b[0m\u001b[1;33m.\u001b[0m\u001b[0methnicity\u001b[0m\u001b[1;33m=\u001b[0m\u001b[0methnicity\u001b[0m\u001b[1;33m\u001b[0m\u001b[1;33m\u001b[0m\u001b[0m\n\u001b[0;32m      6\u001b[0m \u001b[1;33m\u001b[0m\u001b[0m\n\u001b[1;32m----> 7\u001b[1;33m \u001b[0mp1\u001b[0m \u001b[1;33m=\u001b[0m \u001b[0mPatient\u001b[0m\u001b[1;33m(\u001b[0m\u001b[1;34m'Niels'\u001b[0m\u001b[1;33m)\u001b[0m\u001b[1;33m\u001b[0m\u001b[1;33m\u001b[0m\u001b[0m\n\u001b[0m",
      "\u001b[1;32mC:\\Users\\NIELS~1.HAM\\AppData\\Local\\Temp/ipykernel_11144/4112194549.py\u001b[0m in \u001b[0;36m__init__\u001b[1;34m(self, name)\u001b[0m\n\u001b[0;32m      3\u001b[0m     \u001b[1;32mdef\u001b[0m \u001b[0m__init__\u001b[0m\u001b[1;33m(\u001b[0m\u001b[0mself\u001b[0m\u001b[1;33m,\u001b[0m \u001b[0mname\u001b[0m\u001b[1;33m)\u001b[0m\u001b[1;33m:\u001b[0m\u001b[1;33m\u001b[0m\u001b[1;33m\u001b[0m\u001b[0m\n\u001b[0;32m      4\u001b[0m         \u001b[0mself\u001b[0m\u001b[1;33m.\u001b[0m\u001b[0mname\u001b[0m\u001b[1;33m=\u001b[0m\u001b[0mname\u001b[0m\u001b[1;33m\u001b[0m\u001b[1;33m\u001b[0m\u001b[0m\n\u001b[1;32m----> 5\u001b[1;33m         \u001b[0mself\u001b[0m\u001b[1;33m.\u001b[0m\u001b[0methnicity\u001b[0m\u001b[1;33m=\u001b[0m\u001b[0methnicity\u001b[0m\u001b[1;33m\u001b[0m\u001b[1;33m\u001b[0m\u001b[0m\n\u001b[0m\u001b[0;32m      6\u001b[0m \u001b[1;33m\u001b[0m\u001b[0m\n\u001b[0;32m      7\u001b[0m \u001b[0mp1\u001b[0m \u001b[1;33m=\u001b[0m \u001b[0mPatient\u001b[0m\u001b[1;33m(\u001b[0m\u001b[1;34m'Niels'\u001b[0m\u001b[1;33m)\u001b[0m\u001b[1;33m\u001b[0m\u001b[1;33m\u001b[0m\u001b[0m\n",
      "\u001b[1;31mNameError\u001b[0m: name 'ethnicity' is not defined"
     ]
    }
   ],
   "source": [
    "class Patient:\n",
    "        \n",
    "    def __init__(self, name):\n",
    "        self.name=name\n",
    "        self.ethnicity=ethnicity\n",
    "        \n",
    "p1 = Patient('Niels')"
   ]
  },
  {
   "cell_type": "markdown",
   "id": "5d577ff0",
   "metadata": {
    "slideshow": {
     "slide_type": "subslide"
    }
   },
   "source": [
    "# Types of errors\n",
    "\n",
    "* SyntaxError\n",
    "* NameError\n",
    "* IndexError\n",
    "* IndentationError\n",
    "* KeyError\n",
    "* FileNotFoundError\n",
    "* IOError\n",
    "* ImportError\n",
    "* TypeError\n",
    "* UnicodeError\n",
    "* ValueError\n",
    "* ZeroDivisionError"
   ]
  },
  {
   "cell_type": "markdown",
   "id": "81f37107",
   "metadata": {
    "slideshow": {
     "slide_type": "subslide"
    }
   },
   "source": [
    "# Let's look at a few of these"
   ]
  },
  {
   "cell_type": "markdown",
   "id": "26fc9d97",
   "metadata": {
    "slideshow": {
     "slide_type": "subslide"
    }
   },
   "source": [
    "# SyntaxError\n",
    "\n",
    "There's something wrong with the 'grammar' of our code\n",
    "\n",
    "For example, python expects a method definition to end with a colon `:`"
   ]
  },
  {
   "cell_type": "code",
   "execution_count": 8,
   "id": "32d851f2",
   "metadata": {
    "ExecuteTime": {
     "end_time": "2021-11-14T21:08:07.728217Z",
     "start_time": "2021-11-14T21:08:07.722711Z"
    },
    "slideshow": {
     "slide_type": "fragment"
    }
   },
   "outputs": [
    {
     "ename": "SyntaxError",
     "evalue": "invalid syntax (Temp/ipykernel_11144/2779481092.py, line 3)",
     "output_type": "error",
     "traceback": [
      "\u001b[1;36m  File \u001b[1;32m\"C:\\Users\\NIELS~1.HAM\\AppData\\Local\\Temp/ipykernel_11144/2779481092.py\"\u001b[1;36m, line \u001b[1;32m3\u001b[0m\n\u001b[1;33m    def __init__(self, name)\u001b[0m\n\u001b[1;37m                            ^\u001b[0m\n\u001b[1;31mSyntaxError\u001b[0m\u001b[1;31m:\u001b[0m invalid syntax\n"
     ]
    }
   ],
   "source": [
    "class Patient:\n",
    "        \n",
    "    def __init__(self, name)\n",
    "        self.name=name"
   ]
  },
  {
   "cell_type": "markdown",
   "id": "419f9598",
   "metadata": {
    "slideshow": {
     "slide_type": "subslide"
    }
   },
   "source": [
    "![SyntaxError](./images/error_SyntaxError1.png)"
   ]
  },
  {
   "cell_type": "markdown",
   "id": "e79ca3e1",
   "metadata": {
    "slideshow": {
     "slide_type": "subslide"
    }
   },
   "source": [
    "# NameError\n",
    "\n",
    "Usually we are trying to use/access a variable before it has been defined. Before we assigned a value to it"
   ]
  },
  {
   "cell_type": "code",
   "execution_count": 9,
   "id": "3e02d1fe",
   "metadata": {
    "ExecuteTime": {
     "end_time": "2021-11-14T21:08:13.904566Z",
     "start_time": "2021-11-14T21:08:13.895560Z"
    },
    "slideshow": {
     "slide_type": "fragment"
    }
   },
   "outputs": [
    {
     "data": {
      "text/plain": [
       "1"
      ]
     },
     "execution_count": 9,
     "metadata": {},
     "output_type": "execute_result"
    }
   ],
   "source": [
    "a = 1\n",
    "a"
   ]
  },
  {
   "cell_type": "code",
   "execution_count": 10,
   "id": "a35885be",
   "metadata": {
    "ExecuteTime": {
     "end_time": "2021-11-14T21:08:14.237683Z",
     "start_time": "2021-11-14T21:08:14.229193Z"
    },
    "slideshow": {
     "slide_type": "fragment"
    }
   },
   "outputs": [
    {
     "ename": "NameError",
     "evalue": "name 'd' is not defined",
     "output_type": "error",
     "traceback": [
      "\u001b[1;31m---------------------------------------------------------------------------\u001b[0m",
      "\u001b[1;31mNameError\u001b[0m                                 Traceback (most recent call last)",
      "\u001b[1;32mC:\\Users\\NIELS~1.HAM\\AppData\\Local\\Temp/ipykernel_11144/3161387801.py\u001b[0m in \u001b[0;36m<module>\u001b[1;34m\u001b[0m\n\u001b[1;32m----> 1\u001b[1;33m \u001b[0md\u001b[0m\u001b[1;33m\u001b[0m\u001b[1;33m\u001b[0m\u001b[0m\n\u001b[0m",
      "\u001b[1;31mNameError\u001b[0m: name 'd' is not defined"
     ]
    }
   ],
   "source": [
    "d"
   ]
  },
  {
   "cell_type": "markdown",
   "id": "6d77c424",
   "metadata": {
    "slideshow": {
     "slide_type": "subslide"
    }
   },
   "source": [
    "![NameError](./images/error_NameError.png)"
   ]
  },
  {
   "cell_type": "markdown",
   "id": "40937da4",
   "metadata": {
    "slideshow": {
     "slide_type": "subslide"
    }
   },
   "source": [
    "# IndexError"
   ]
  },
  {
   "cell_type": "markdown",
   "id": "20239355",
   "metadata": {
    "slideshow": {
     "slide_type": "fragment"
    }
   },
   "source": [
    "![IndexError](./images/error_IndexError.png)\n"
   ]
  },
  {
   "cell_type": "markdown",
   "id": "dd4b600f",
   "metadata": {
    "slideshow": {
     "slide_type": "subslide"
    }
   },
   "source": [
    "# IndentationError"
   ]
  },
  {
   "cell_type": "code",
   "execution_count": 12,
   "id": "6806c0a4",
   "metadata": {
    "ExecuteTime": {
     "end_time": "2021-11-14T21:08:18.282274Z",
     "start_time": "2021-11-14T21:08:18.277269Z"
    },
    "slideshow": {
     "slide_type": "fragment"
    }
   },
   "outputs": [
    {
     "ename": "IndentationError",
     "evalue": "unindent does not match any outer indentation level (<tokenize>, line 6)",
     "output_type": "error",
     "traceback": [
      "\u001b[1;36m  File \u001b[1;32m\"<tokenize>\"\u001b[1;36m, line \u001b[1;32m6\u001b[0m\n\u001b[1;33m    print('a is larger than b')\u001b[0m\n\u001b[1;37m    ^\u001b[0m\n\u001b[1;31mIndentationError\u001b[0m\u001b[1;31m:\u001b[0m unindent does not match any outer indentation level\n"
     ]
    }
   ],
   "source": [
    "a = 2\n",
    "b = 1\n",
    "\n",
    "if a > b:\n",
    "    print('comparing...')\n",
    "  print('a is larger than b')"
   ]
  },
  {
   "cell_type": "markdown",
   "id": "898d08b4",
   "metadata": {
    "slideshow": {
     "slide_type": "subslide"
    }
   },
   "source": [
    "# KeyError\n",
    "\n",
    "If a key value cannot be found in a data structure, such as a dictionary"
   ]
  },
  {
   "cell_type": "code",
   "execution_count": 13,
   "id": "6980de53",
   "metadata": {
    "ExecuteTime": {
     "end_time": "2021-11-14T21:08:19.701027Z",
     "start_time": "2021-11-14T21:08:19.691525Z"
    },
    "slideshow": {
     "slide_type": "fragment"
    }
   },
   "outputs": [
    {
     "name": "stdout",
     "output_type": "stream",
     "text": [
      "12345\n"
     ]
    },
    {
     "ename": "KeyError",
     "evalue": "'Niels'",
     "output_type": "error",
     "traceback": [
      "\u001b[1;31m---------------------------------------------------------------------------\u001b[0m",
      "\u001b[1;31mKeyError\u001b[0m                                  Traceback (most recent call last)",
      "\u001b[1;32mC:\\Users\\NIELS~1.HAM\\AppData\\Local\\Temp/ipykernel_11144/301003906.py\u001b[0m in \u001b[0;36m<module>\u001b[1;34m\u001b[0m\n\u001b[0;32m      1\u001b[0m \u001b[0mphonebook\u001b[0m \u001b[1;33m=\u001b[0m \u001b[1;33m{\u001b[0m\u001b[1;34m'Anton'\u001b[0m\u001b[1;33m:\u001b[0m \u001b[1;36m12345\u001b[0m\u001b[1;33m,\u001b[0m \u001b[1;34m'Bettina'\u001b[0m\u001b[1;33m:\u001b[0m \u001b[1;36m23456\u001b[0m\u001b[1;33m,\u001b[0m \u001b[1;34m'Marijn'\u001b[0m\u001b[1;33m:\u001b[0m \u001b[1;36m34567\u001b[0m\u001b[1;33m}\u001b[0m\u001b[1;33m\u001b[0m\u001b[1;33m\u001b[0m\u001b[0m\n\u001b[0;32m      2\u001b[0m \u001b[0mprint\u001b[0m\u001b[1;33m(\u001b[0m\u001b[0mphonebook\u001b[0m\u001b[1;33m[\u001b[0m\u001b[1;34m'Anton'\u001b[0m\u001b[1;33m]\u001b[0m\u001b[1;33m)\u001b[0m\u001b[1;33m\u001b[0m\u001b[1;33m\u001b[0m\u001b[0m\n\u001b[1;32m----> 3\u001b[1;33m \u001b[0mprint\u001b[0m\u001b[1;33m(\u001b[0m\u001b[0mphonebook\u001b[0m\u001b[1;33m[\u001b[0m\u001b[1;34m'Niels'\u001b[0m\u001b[1;33m]\u001b[0m\u001b[1;33m)\u001b[0m\u001b[1;33m\u001b[0m\u001b[1;33m\u001b[0m\u001b[0m\n\u001b[0m",
      "\u001b[1;31mKeyError\u001b[0m: 'Niels'"
     ]
    }
   ],
   "source": [
    "phonebook = {'Anton': 12345, 'Bettina': 23456, 'Marijn': 34567}\n",
    "print(phonebook['Anton'])\n",
    "print(phonebook['Niels'])"
   ]
  },
  {
   "cell_type": "markdown",
   "id": "02946121",
   "metadata": {
    "slideshow": {
     "slide_type": "subslide"
    }
   },
   "source": [
    "# ImportError/ModuleNotFoundError\n",
    "\n",
    "Until now we've only been using python modules which are installed by default ([the standard library](https://docs.python.org/3/library/)), such as `math`, but later you will also be using additional modules which are not part of the standard library and need to be installed first."
   ]
  },
  {
   "cell_type": "code",
   "execution_count": 14,
   "id": "1411e0ed",
   "metadata": {
    "ExecuteTime": {
     "end_time": "2021-11-14T21:08:22.973195Z",
     "start_time": "2021-11-14T21:08:22.964695Z"
    },
    "slideshow": {
     "slide_type": "fragment"
    }
   },
   "outputs": [
    {
     "ename": "ModuleNotFoundError",
     "evalue": "No module named 'tensorflow'",
     "output_type": "error",
     "traceback": [
      "\u001b[1;31m---------------------------------------------------------------------------\u001b[0m",
      "\u001b[1;31mModuleNotFoundError\u001b[0m                       Traceback (most recent call last)",
      "\u001b[1;32mC:\\Users\\NIELS~1.HAM\\AppData\\Local\\Temp/ipykernel_11144/4294963926.py\u001b[0m in \u001b[0;36m<module>\u001b[1;34m\u001b[0m\n\u001b[1;32m----> 1\u001b[1;33m \u001b[1;32mimport\u001b[0m \u001b[0mtensorflow\u001b[0m\u001b[1;33m\u001b[0m\u001b[1;33m\u001b[0m\u001b[0m\n\u001b[0m",
      "\u001b[1;31mModuleNotFoundError\u001b[0m: No module named 'tensorflow'"
     ]
    }
   ],
   "source": [
    "import tensorflow"
   ]
  },
  {
   "cell_type": "markdown",
   "id": "08ec3c89",
   "metadata": {
    "slideshow": {
     "slide_type": "subslide"
    }
   },
   "source": [
    "# StackOverflow\n",
    "\n",
    "<img src=\"./images/stackoverflow.jpg\" width=\"1000\">"
   ]
  },
  {
   "cell_type": "markdown",
   "id": "81a3e0e2",
   "metadata": {
    "slideshow": {
     "slide_type": "subslide"
    }
   },
   "source": [
    "<img src=\"./images/error_IndexError.png\">\n",
    "\n",
    "[Search StackOverflow](https://www.google.com/search?q=IndexError%3A%20list%20index%20out%20of%20range+site:stackoverflow.com)"
   ]
  },
  {
   "cell_type": "markdown",
   "id": "bd593f37",
   "metadata": {
    "slideshow": {
     "slide_type": "subslide"
    }
   },
   "source": [
    "<img src=\"./images/stackoverflow_no_answer.png\" width=\"1000\">"
   ]
  },
  {
   "cell_type": "markdown",
   "id": "dbe91928",
   "metadata": {
    "slideshow": {
     "slide_type": "slide"
    }
   },
   "source": [
    "# Errors and Exceptions: Handling \n",
    "\n",
    "So what do we use this knowledge for? What are the benefits?\n",
    "\n",
    "1. Seperate in your program:\n",
    "    * what's supposed to happen when everything works, from...\n",
    "    * ...what happens when things go wrong\n",
    "2. Prevent our program from crashing if it is used in a non-proper way, by writing code to handle exceptional cases \n",
    "\n",
    "Let's look at some examples"
   ]
  },
  {
   "cell_type": "markdown",
   "id": "d54d1761",
   "metadata": {
    "slideshow": {
     "slide_type": "subslide"
    }
   },
   "source": [
    "## Try/Except: Example 1\n",
    "\n",
    "User input"
   ]
  },
  {
   "cell_type": "markdown",
   "id": "f7bb9408",
   "metadata": {
    "slideshow": {
     "slide_type": "fragment"
    }
   },
   "source": [
    "Some of you have already explored the input() function, which asks the user to input a value. Using this, the value that is entered is automatically of type string."
   ]
  },
  {
   "cell_type": "code",
   "execution_count": 16,
   "id": "f886b6af",
   "metadata": {
    "ExecuteTime": {
     "end_time": "2021-11-14T21:08:39.914442Z",
     "start_time": "2021-11-14T21:08:35.410016Z"
    },
    "slideshow": {
     "slide_type": "fragment"
    }
   },
   "outputs": [
    {
     "name": "stdout",
     "output_type": "stream",
     "text": [
      "Enter a value here: 10\n"
     ]
    },
    {
     "data": {
      "text/plain": [
       "str"
      ]
     },
     "execution_count": 16,
     "metadata": {},
     "output_type": "execute_result"
    }
   ],
   "source": [
    "a = input('Enter a value here: ')\n",
    "type(a)"
   ]
  },
  {
   "cell_type": "markdown",
   "id": "4176d113",
   "metadata": {
    "slideshow": {
     "slide_type": "subslide"
    }
   },
   "source": [
    "So if you want the user to enter a number, say an integer, you need to change the data type yourself."
   ]
  },
  {
   "cell_type": "code",
   "execution_count": 17,
   "id": "42935fc4",
   "metadata": {
    "ExecuteTime": {
     "end_time": "2021-11-14T21:08:49.853359Z",
     "start_time": "2021-11-14T21:08:46.557940Z"
    },
    "slideshow": {
     "slide_type": "fragment"
    }
   },
   "outputs": [
    {
     "name": "stdout",
     "output_type": "stream",
     "text": [
      "Give me an integer: 10\n"
     ]
    },
    {
     "data": {
      "text/plain": [
       "int"
      ]
     },
     "execution_count": 17,
     "metadata": {},
     "output_type": "execute_result"
    }
   ],
   "source": [
    "a = input('Give me an integer: ')\n",
    "\n",
    "# the int() function turns a value into an integer\n",
    "a_as_int = int(a)\n",
    "type(a_as_int)"
   ]
  },
  {
   "cell_type": "markdown",
   "id": "e3af98ce",
   "metadata": {
    "slideshow": {
     "slide_type": "subslide"
    }
   },
   "source": [
    "If the int() function receives a value it cannot turn into an integer, it raises a ValueError. You can use this knowledge to prevent your program from breaking and stopping when a user enters a non-integer, like so:"
   ]
  },
  {
   "cell_type": "code",
   "execution_count": 18,
   "id": "8ed5118f",
   "metadata": {
    "ExecuteTime": {
     "end_time": "2021-11-14T21:09:02.520396Z",
     "start_time": "2021-11-14T21:08:53.599955Z"
    },
    "slideshow": {
     "slide_type": "fragment"
    }
   },
   "outputs": [
    {
     "name": "stdout",
     "output_type": "stream",
     "text": [
      "Please enter a number: a\n",
      "Oops!  That was no valid number.  Try again...\n",
      "Please enter a number: abc\n",
      "Oops!  That was no valid number.  Try again...\n",
      "Please enter a number: 9.5\n",
      "Oops!  That was no valid number.  Try again...\n",
      "Please enter a number: 10\n",
      "You (finally) entered a valid number and it was:  10\n"
     ]
    }
   ],
   "source": [
    "while True:\n",
    "    try:\n",
    "        a = int(input('Please enter a number: '))\n",
    "        break\n",
    "    except ValueError:\n",
    "        print('Oops!  That was no valid number.  Try again...')\n",
    "        \n",
    "print('You (finally) entered a valid number and it was: ', a)"
   ]
  },
  {
   "cell_type": "markdown",
   "id": "9c22a617",
   "metadata": {
    "slideshow": {
     "slide_type": "subslide"
    }
   },
   "source": [
    "## Try/Except: Example 2\n",
    "\n",
    "Catching multiple exceptions"
   ]
  },
  {
   "cell_type": "code",
   "execution_count": 19,
   "id": "80cbe87c",
   "metadata": {
    "ExecuteTime": {
     "end_time": "2021-11-14T21:09:19.103156Z",
     "start_time": "2021-11-14T21:09:07.496949Z"
    },
    "slideshow": {
     "slide_type": "fragment"
    }
   },
   "outputs": [
    {
     "name": "stdout",
     "output_type": "stream",
     "text": [
      "Please enter an integer position to index in four_names: abc\n",
      "Oops!  That was no valid number.  Try again...\n",
      "Please enter an integer position to index in four_names: 6\n",
      "There is no name at that position in the list. Try again...\n",
      "Please enter an integer position to index in four_names: 4\n",
      "There is no name at that position in the list. Try again...\n",
      "Please enter an integer position to index in four_names: 0\n",
      "You (finally) entered a valid number and it was:  0\n",
      "And that position existed in the list and corresponds with name:  Visara\n"
     ]
    }
   ],
   "source": [
    "four_names = ['Visara', 'Vikas', 'Sil', 'Niels']\n",
    "\n",
    "while True:\n",
    "    try:\n",
    "        a = int(input('Please enter an integer position to index in four_names: '))\n",
    "        indexed_name = four_names[a]\n",
    "        break\n",
    "    except ValueError:\n",
    "        print('Oops!  That was no valid number.  Try again...')\n",
    "    except IndexError:\n",
    "        print('There is no name at that position in the list. Try again...')\n",
    "        \n",
    "print('You (finally) entered a valid number and it was: ', a)\n",
    "print('And that position existed in the list and corresponds with name: ', indexed_name)"
   ]
  },
  {
   "cell_type": "markdown",
   "id": "9a5bfdfe",
   "metadata": {
    "slideshow": {
     "slide_type": "subslide"
    }
   },
   "source": [
    "## Try/Except: Example 3\n",
    "\n",
    "File reading and accessing the error object"
   ]
  },
  {
   "cell_type": "code",
   "execution_count": 20,
   "id": "bbf7a24d",
   "metadata": {
    "ExecuteTime": {
     "end_time": "2021-11-14T21:09:25.288010Z",
     "start_time": "2021-11-14T21:09:25.276016Z"
    },
    "slideshow": {
     "slide_type": "fragment"
    }
   },
   "outputs": [
    {
     "name": "stdout",
     "output_type": "stream",
     "text": [
      "{\n",
      " \"cells\": [\n",
      "  {\n",
      "   \"cell_type\": \"markdown\",\n",
      "   \"\n"
     ]
    }
   ],
   "source": [
    "# open a file from disk, like this notebook\n",
    "with open('Lecture06-ErrorsAndExceptions.ipynb', 'r') as f:\n",
    "    # print the first part\n",
    "    print(f.read()[:50])"
   ]
  },
  {
   "cell_type": "code",
   "execution_count": 21,
   "id": "9d3e20c7",
   "metadata": {
    "ExecuteTime": {
     "end_time": "2021-11-14T21:09:25.899135Z",
     "start_time": "2021-11-14T21:09:25.894133Z"
    },
    "slideshow": {
     "slide_type": "subslide"
    }
   },
   "outputs": [
    {
     "name": "stdout",
     "output_type": "stream",
     "text": [
      "You are probably using the wrong filename. Encountered an error:\n",
      "[Errno 2] No such file or directory: 'Lecture06-ErrorsAndExceptionsWITH-A-TYPE-IN-THE-FILENAME.ipynb'\n"
     ]
    }
   ],
   "source": [
    "try:\n",
    "    # open a file from disk, like this notebook\n",
    "    with open('Lecture06-ErrorsAndExceptionsWITH-A-TYPE-IN-THE-FILENAME.ipynb', 'r') as f:\n",
    "        # print the first part\n",
    "        print(f.read()[:50])\n",
    "        \n",
    "except FileNotFoundError as e:\n",
    "    print('You are probably using the wrong filename. Encountered an error:')\n",
    "    print(e)"
   ]
  },
  {
   "cell_type": "markdown",
   "id": "514dbc13",
   "metadata": {
    "slideshow": {
     "slide_type": "slide"
    }
   },
   "source": [
    "# 3. Errors and Exceptions: Raising\n",
    "\n",
    "If you want to signal to the user that something went wrong, you can `raise` an error.\n",
    "\n",
    "For example, the `Patient` class from week 4 could be extended with an updateAge() method, which updates (sets) the age of a patient. In order to prevent strings being set as age, you should do a check to see if the input is really an integer."
   ]
  },
  {
   "cell_type": "markdown",
   "id": "5b5dfe73",
   "metadata": {
    "slideshow": {
     "slide_type": "subslide"
    }
   },
   "source": [
    "One way to do this is by using if/else"
   ]
  },
  {
   "cell_type": "code",
   "execution_count": 22,
   "id": "c88e3af3",
   "metadata": {
    "ExecuteTime": {
     "end_time": "2021-11-14T21:09:41.548587Z",
     "start_time": "2021-11-14T21:09:41.540586Z"
    },
    "slideshow": {
     "slide_type": "fragment"
    }
   },
   "outputs": [
    {
     "name": "stdout",
     "output_type": "stream",
     "text": [
      "Age was not updated. Age must be a number!\n"
     ]
    },
    {
     "ename": "AttributeError",
     "evalue": "'Patient' object has no attribute 'age'",
     "output_type": "error",
     "traceback": [
      "\u001b[1;31m---------------------------------------------------------------------------\u001b[0m",
      "\u001b[1;31mAttributeError\u001b[0m                            Traceback (most recent call last)",
      "\u001b[1;32mC:\\Users\\NIELS~1.HAM\\AppData\\Local\\Temp/ipykernel_11144/2954757338.py\u001b[0m in \u001b[0;36m<module>\u001b[1;34m\u001b[0m\n\u001b[0;32m     14\u001b[0m \u001b[1;33m\u001b[0m\u001b[0m\n\u001b[0;32m     15\u001b[0m \u001b[0mp1\u001b[0m \u001b[1;33m=\u001b[0m \u001b[0mPatient\u001b[0m\u001b[1;33m(\u001b[0m\u001b[1;34m'Niels'\u001b[0m\u001b[1;33m,\u001b[0m \u001b[1;34m'M'\u001b[0m\u001b[1;33m,\u001b[0m \u001b[1;34m'39'\u001b[0m\u001b[1;33m)\u001b[0m\u001b[1;33m\u001b[0m\u001b[1;33m\u001b[0m\u001b[0m\n\u001b[1;32m---> 16\u001b[1;33m \u001b[0mp1\u001b[0m\u001b[1;33m.\u001b[0m\u001b[0mage\u001b[0m\u001b[1;33m\u001b[0m\u001b[1;33m\u001b[0m\u001b[0m\n\u001b[0m",
      "\u001b[1;31mAttributeError\u001b[0m: 'Patient' object has no attribute 'age'"
     ]
    }
   ],
   "source": [
    "class Patient:\n",
    "\n",
    "    def __init__(self, name, gender, age):\n",
    "        self.name=name \n",
    "        self.gender=gender\n",
    "        self.updateAge(age) # <-- NOTE that the updateAge method is already used here to set age!\n",
    "    \n",
    "    # method for updating the age of the patient\n",
    "    def updateAge(self, age):\n",
    "        if (type(age) == int): # checks that the age is an integer\n",
    "            self.age=age\n",
    "        else:\n",
    "            print(\"Age was not updated. Age must be a number!\")\n",
    "            \n",
    "p1 = Patient('Niels', 'M', '39')\n",
    "p1.age"
   ]
  },
  {
   "cell_type": "markdown",
   "id": "a89876fe",
   "metadata": {
    "slideshow": {
     "slide_type": "fragment"
    }
   },
   "source": [
    "Remember though, that it is helpful to the readers of your code if they can **separate what's supposed to happen** from **what's going wrong**.\n",
    "\n",
    "Even though a message is printed, we could make it clearer that something goes wrong if age is not an integer.\n",
    "\n",
    "Moreover, as you can see above, the program is not terminated once age is invalid at line 17, but line 18 is still run."
   ]
  },
  {
   "cell_type": "markdown",
   "id": "c8096910",
   "metadata": {
    "slideshow": {
     "slide_type": "subslide"
    }
   },
   "source": [
    "Another way: `raise` a `ValueError`"
   ]
  },
  {
   "cell_type": "code",
   "execution_count": 23,
   "id": "77e67780",
   "metadata": {
    "ExecuteTime": {
     "end_time": "2021-11-14T21:09:44.721479Z",
     "start_time": "2021-11-14T21:09:44.707981Z"
    },
    "slideshow": {
     "slide_type": "fragment"
    }
   },
   "outputs": [
    {
     "ename": "ValueError",
     "evalue": "Age must be a number! Age was not updated. ",
     "output_type": "error",
     "traceback": [
      "\u001b[1;31m---------------------------------------------------------------------------\u001b[0m",
      "\u001b[1;31mValueError\u001b[0m                                Traceback (most recent call last)",
      "\u001b[1;32mC:\\Users\\NIELS~1.HAM\\AppData\\Local\\Temp/ipykernel_11144/1017788043.py\u001b[0m in \u001b[0;36m<module>\u001b[1;34m\u001b[0m\n\u001b[0;32m     13\u001b[0m             \u001b[1;32mraise\u001b[0m \u001b[0mValueError\u001b[0m\u001b[1;33m(\u001b[0m\u001b[1;34m\"Age must be a number! Age was not updated. \"\u001b[0m\u001b[1;33m)\u001b[0m\u001b[1;33m\u001b[0m\u001b[1;33m\u001b[0m\u001b[0m\n\u001b[0;32m     14\u001b[0m \u001b[1;33m\u001b[0m\u001b[0m\n\u001b[1;32m---> 15\u001b[1;33m \u001b[0mp1\u001b[0m \u001b[1;33m=\u001b[0m \u001b[0mPatient\u001b[0m\u001b[1;33m(\u001b[0m\u001b[1;34m'Niels'\u001b[0m\u001b[1;33m,\u001b[0m \u001b[1;34m'M'\u001b[0m\u001b[1;33m,\u001b[0m \u001b[1;34m'39'\u001b[0m\u001b[1;33m)\u001b[0m\u001b[1;33m\u001b[0m\u001b[1;33m\u001b[0m\u001b[0m\n\u001b[0m\u001b[0;32m     16\u001b[0m \u001b[0mp1\u001b[0m\u001b[1;33m.\u001b[0m\u001b[0mage\u001b[0m\u001b[1;33m\u001b[0m\u001b[1;33m\u001b[0m\u001b[0m\n",
      "\u001b[1;32mC:\\Users\\NIELS~1.HAM\\AppData\\Local\\Temp/ipykernel_11144/1017788043.py\u001b[0m in \u001b[0;36m__init__\u001b[1;34m(self, name, gender, age)\u001b[0m\n\u001b[0;32m      4\u001b[0m         \u001b[0mself\u001b[0m\u001b[1;33m.\u001b[0m\u001b[0mname\u001b[0m\u001b[1;33m=\u001b[0m\u001b[0mname\u001b[0m\u001b[1;33m\u001b[0m\u001b[1;33m\u001b[0m\u001b[0m\n\u001b[0;32m      5\u001b[0m         \u001b[0mself\u001b[0m\u001b[1;33m.\u001b[0m\u001b[0mgender\u001b[0m\u001b[1;33m=\u001b[0m\u001b[0mgender\u001b[0m\u001b[1;33m\u001b[0m\u001b[1;33m\u001b[0m\u001b[0m\n\u001b[1;32m----> 6\u001b[1;33m         \u001b[0mself\u001b[0m\u001b[1;33m.\u001b[0m\u001b[0mupdateAge\u001b[0m\u001b[1;33m(\u001b[0m\u001b[0mage\u001b[0m\u001b[1;33m)\u001b[0m\u001b[1;33m\u001b[0m\u001b[1;33m\u001b[0m\u001b[0m\n\u001b[0m\u001b[0;32m      7\u001b[0m \u001b[1;33m\u001b[0m\u001b[0m\n\u001b[0;32m      8\u001b[0m     \u001b[1;31m# method for updating the age of the patient\u001b[0m\u001b[1;33m\u001b[0m\u001b[1;33m\u001b[0m\u001b[0m\n",
      "\u001b[1;32mC:\\Users\\NIELS~1.HAM\\AppData\\Local\\Temp/ipykernel_11144/1017788043.py\u001b[0m in \u001b[0;36mupdateAge\u001b[1;34m(self, age)\u001b[0m\n\u001b[0;32m     11\u001b[0m             \u001b[0mself\u001b[0m\u001b[1;33m.\u001b[0m\u001b[0mage\u001b[0m\u001b[1;33m=\u001b[0m\u001b[0mage\u001b[0m\u001b[1;33m\u001b[0m\u001b[1;33m\u001b[0m\u001b[0m\n\u001b[0;32m     12\u001b[0m         \u001b[1;32melse\u001b[0m\u001b[1;33m:\u001b[0m\u001b[1;33m\u001b[0m\u001b[1;33m\u001b[0m\u001b[0m\n\u001b[1;32m---> 13\u001b[1;33m             \u001b[1;32mraise\u001b[0m \u001b[0mValueError\u001b[0m\u001b[1;33m(\u001b[0m\u001b[1;34m\"Age must be a number! Age was not updated. \"\u001b[0m\u001b[1;33m)\u001b[0m\u001b[1;33m\u001b[0m\u001b[1;33m\u001b[0m\u001b[0m\n\u001b[0m\u001b[0;32m     14\u001b[0m \u001b[1;33m\u001b[0m\u001b[0m\n\u001b[0;32m     15\u001b[0m \u001b[0mp1\u001b[0m \u001b[1;33m=\u001b[0m \u001b[0mPatient\u001b[0m\u001b[1;33m(\u001b[0m\u001b[1;34m'Niels'\u001b[0m\u001b[1;33m,\u001b[0m \u001b[1;34m'M'\u001b[0m\u001b[1;33m,\u001b[0m \u001b[1;34m'39'\u001b[0m\u001b[1;33m)\u001b[0m\u001b[1;33m\u001b[0m\u001b[1;33m\u001b[0m\u001b[0m\n",
      "\u001b[1;31mValueError\u001b[0m: Age must be a number! Age was not updated. "
     ]
    }
   ],
   "source": [
    "class Patient:\n",
    "\n",
    "    def __init__(self, name, gender, age):\n",
    "        self.name=name \n",
    "        self.gender=gender\n",
    "        self.updateAge(age)\n",
    "    \n",
    "    # method for updating the age of the patient\n",
    "    def updateAge(self, age):\n",
    "        if (type(age) == int): # checks that the age is an integer\n",
    "            self.age=age\n",
    "        else:\n",
    "            raise ValueError(\"Age must be a number! Age was not updated. \")\n",
    "            \n",
    "p1 = Patient('Niels', 'M', '39')\n",
    "p1.age"
   ]
  },
  {
   "cell_type": "markdown",
   "id": "c06ff499",
   "metadata": {
    "slideshow": {
     "slide_type": "subslide"
    }
   },
   "source": [
    "A more concise way to do something like this, is by using an `assert` statement. We can use this in the following way:"
   ]
  },
  {
   "cell_type": "code",
   "execution_count": 24,
   "id": "b5034701",
   "metadata": {
    "ExecuteTime": {
     "end_time": "2021-11-14T21:09:51.197863Z",
     "start_time": "2021-11-14T21:09:51.185865Z"
    },
    "slideshow": {
     "slide_type": "fragment"
    }
   },
   "outputs": [
    {
     "ename": "AssertionError",
     "evalue": "Age is not an integer",
     "output_type": "error",
     "traceback": [
      "\u001b[1;31m---------------------------------------------------------------------------\u001b[0m",
      "\u001b[1;31mAssertionError\u001b[0m                            Traceback (most recent call last)",
      "\u001b[1;32mC:\\Users\\NIELS~1.HAM\\AppData\\Local\\Temp/ipykernel_11144/3912199431.py\u001b[0m in \u001b[0;36m<module>\u001b[1;34m\u001b[0m\n\u001b[0;32m     13\u001b[0m         \u001b[0mself\u001b[0m\u001b[1;33m.\u001b[0m\u001b[0mage\u001b[0m\u001b[1;33m=\u001b[0m\u001b[0mage\u001b[0m\u001b[1;33m\u001b[0m\u001b[1;33m\u001b[0m\u001b[0m\n\u001b[0;32m     14\u001b[0m \u001b[1;33m\u001b[0m\u001b[0m\n\u001b[1;32m---> 15\u001b[1;33m \u001b[0mp1\u001b[0m \u001b[1;33m=\u001b[0m \u001b[0mPatient\u001b[0m\u001b[1;33m(\u001b[0m\u001b[1;34m'Niels'\u001b[0m\u001b[1;33m,\u001b[0m \u001b[1;34m'M'\u001b[0m\u001b[1;33m,\u001b[0m \u001b[1;34m'39'\u001b[0m\u001b[1;33m)\u001b[0m\u001b[1;33m\u001b[0m\u001b[1;33m\u001b[0m\u001b[0m\n\u001b[0m\u001b[0;32m     16\u001b[0m \u001b[0mp1\u001b[0m\u001b[1;33m.\u001b[0m\u001b[0mage\u001b[0m\u001b[1;33m\u001b[0m\u001b[1;33m\u001b[0m\u001b[0m\n",
      "\u001b[1;32mC:\\Users\\NIELS~1.HAM\\AppData\\Local\\Temp/ipykernel_11144/3912199431.py\u001b[0m in \u001b[0;36m__init__\u001b[1;34m(self, name, gender, age)\u001b[0m\n\u001b[0;32m      4\u001b[0m         \u001b[0mself\u001b[0m\u001b[1;33m.\u001b[0m\u001b[0mname\u001b[0m\u001b[1;33m=\u001b[0m\u001b[0mname\u001b[0m\u001b[1;33m\u001b[0m\u001b[1;33m\u001b[0m\u001b[0m\n\u001b[0;32m      5\u001b[0m         \u001b[0mself\u001b[0m\u001b[1;33m.\u001b[0m\u001b[0mgender\u001b[0m\u001b[1;33m=\u001b[0m\u001b[0mgender\u001b[0m\u001b[1;33m\u001b[0m\u001b[1;33m\u001b[0m\u001b[0m\n\u001b[1;32m----> 6\u001b[1;33m         \u001b[0mself\u001b[0m\u001b[1;33m.\u001b[0m\u001b[0mupdateAge\u001b[0m\u001b[1;33m(\u001b[0m\u001b[0mage\u001b[0m\u001b[1;33m)\u001b[0m\u001b[1;33m\u001b[0m\u001b[1;33m\u001b[0m\u001b[0m\n\u001b[0m\u001b[0;32m      7\u001b[0m \u001b[1;33m\u001b[0m\u001b[0m\n\u001b[0;32m      8\u001b[0m     \u001b[1;31m# method for updating the age of the patient\u001b[0m\u001b[1;33m\u001b[0m\u001b[1;33m\u001b[0m\u001b[0m\n",
      "\u001b[1;32mC:\\Users\\NIELS~1.HAM\\AppData\\Local\\Temp/ipykernel_11144/3912199431.py\u001b[0m in \u001b[0;36mupdateAge\u001b[1;34m(self, age)\u001b[0m\n\u001b[0;32m      9\u001b[0m     \u001b[1;32mdef\u001b[0m \u001b[0mupdateAge\u001b[0m\u001b[1;33m(\u001b[0m\u001b[0mself\u001b[0m\u001b[1;33m,\u001b[0m \u001b[0mage\u001b[0m\u001b[1;33m)\u001b[0m\u001b[1;33m:\u001b[0m\u001b[1;33m\u001b[0m\u001b[1;33m\u001b[0m\u001b[0m\n\u001b[0;32m     10\u001b[0m \u001b[1;33m\u001b[0m\u001b[0m\n\u001b[1;32m---> 11\u001b[1;33m         \u001b[1;32massert\u001b[0m \u001b[1;33m(\u001b[0m\u001b[0mtype\u001b[0m\u001b[1;33m(\u001b[0m\u001b[0mage\u001b[0m\u001b[1;33m)\u001b[0m \u001b[1;33m==\u001b[0m \u001b[0mint\u001b[0m\u001b[1;33m)\u001b[0m\u001b[1;33m,\u001b[0m \u001b[1;34m\"Age is not an integer\"\u001b[0m \u001b[1;31m# note: message describes what happens when the statement fails\u001b[0m\u001b[1;33m\u001b[0m\u001b[1;33m\u001b[0m\u001b[0m\n\u001b[0m\u001b[0;32m     12\u001b[0m         \u001b[1;31m# if the assert statement passes, the code keeps running, otherwise an AssertionError is raised\u001b[0m\u001b[1;33m\u001b[0m\u001b[1;33m\u001b[0m\u001b[0m\n\u001b[0;32m     13\u001b[0m         \u001b[0mself\u001b[0m\u001b[1;33m.\u001b[0m\u001b[0mage\u001b[0m\u001b[1;33m=\u001b[0m\u001b[0mage\u001b[0m\u001b[1;33m\u001b[0m\u001b[1;33m\u001b[0m\u001b[0m\n",
      "\u001b[1;31mAssertionError\u001b[0m: Age is not an integer"
     ]
    }
   ],
   "source": [
    "class Patient:\n",
    "\n",
    "    def __init__(self, name, gender, age):\n",
    "        self.name=name \n",
    "        self.gender=gender\n",
    "        self.updateAge(age)\n",
    "\n",
    "    # method for updating the age of the patient\n",
    "    def updateAge(self, age):\n",
    "        \n",
    "        assert (type(age) == int), \"Age is not an integer\" # note: message describes what happens when the statement fails\n",
    "        # if the assert statement passes, the code keeps running, otherwise an AssertionError is raised\n",
    "        self.age=age\n",
    "\n",
    "p1 = Patient('Niels', 'M', '39')\n",
    "p1.age"
   ]
  },
  {
   "cell_type": "markdown",
   "id": "575680c8",
   "metadata": {
    "slideshow": {
     "slide_type": "slide"
    }
   },
   "source": [
    "# Takeaway messages\n",
    "\n",
    "### Don't be scared of errors.\n",
    "### Read them. Google them."
   ]
  },
  {
   "cell_type": "markdown",
   "id": "1939901a",
   "metadata": {
    "slideshow": {
     "slide_type": "fragment"
    }
   },
   "source": [
    "### Errors' purpose:\n",
    "    * A graceful exit\n",
    "    * Separate what's supposed to happen, from what can go wrong"
   ]
  },
  {
   "cell_type": "markdown",
   "id": "e1904547",
   "metadata": {
    "slideshow": {
     "slide_type": "fragment"
    }
   },
   "source": [
    "### Handle exceptions by using `try` and `except`"
   ]
  },
  {
   "cell_type": "markdown",
   "id": "1fdf6984",
   "metadata": {
    "slideshow": {
     "slide_type": "fragment"
    }
   },
   "source": [
    "### `raise` errors to signal to user something went wrong"
   ]
  }
 ],
 "metadata": {
  "celltoolbar": "Slideshow",
  "kernelspec": {
   "display_name": "Python 3 (ipykernel)",
   "language": "python",
   "name": "python3"
  },
  "language_info": {
   "codemirror_mode": {
    "name": "ipython",
    "version": 3
   },
   "file_extension": ".py",
   "mimetype": "text/x-python",
   "name": "python",
   "nbconvert_exporter": "python",
   "pygments_lexer": "ipython3",
   "version": "3.9.7"
  },
  "toc": {
   "base_numbering": 1,
   "nav_menu": {},
   "number_sections": true,
   "sideBar": true,
   "skip_h1_title": false,
   "title_cell": "Table of Contents",
   "title_sidebar": "Contents",
   "toc_cell": false,
   "toc_position": {},
   "toc_section_display": true,
   "toc_window_display": false
  }
 },
 "nbformat": 4,
 "nbformat_minor": 5
}
