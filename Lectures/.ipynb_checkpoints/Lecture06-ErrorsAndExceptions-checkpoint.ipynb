{
 "cells": [
  {
   "cell_type": "markdown",
   "id": "918b29a7",
   "metadata": {
    "slideshow": {
     "slide_type": "slide"
    }
   },
   "source": [
    "# Lecture 6: Errors and Exceptions"
   ]
  },
  {
   "cell_type": "markdown",
   "id": "92da1257",
   "metadata": {
    "slideshow": {
     "slide_type": "slide"
    }
   },
   "source": [
    "## Contents today\n",
    "0. Recap:\n",
    "    * Data structures\n",
    "    * Control flow (similar to and relevant for today's content)\n",
    "    * Functions\n",
    "1. Why do errors even exist?\n",
    "2. Receiving Errors and dealing with them\n"
   ]
  },
  {
   "cell_type": "markdown",
   "id": "d3293c55",
   "metadata": {
    "slideshow": {
     "slide_type": "fragment"
    }
   },
   "source": [
    "3. You're programming now! Return the favour and serve the user some Errors\n"
   ]
  },
  {
   "cell_type": "markdown",
   "id": "c4905f04",
   "metadata": {
    "slideshow": {
     "slide_type": "slide"
    }
   },
   "source": [
    "## Recap: Data structures\n",
    "\n",
    "![Recap data structures](../images/recap_data_structures.png)"
   ]
  },
  {
   "cell_type": "markdown",
   "id": "a966d489",
   "metadata": {
    "slideshow": {
     "slide_type": "slide"
    }
   },
   "source": [
    "## Recap: Control Flow\n",
    "\n",
    "![Recap programming statements](../images/recap_program_statements.png)"
   ]
  },
  {
   "cell_type": "markdown",
   "id": "cd0c94fe",
   "metadata": {
    "slideshow": {
     "slide_type": "subslide"
    }
   },
   "source": [
    "## Recap: Control Flow\n",
    "\n",
    "![Recap control flow](../images/recap_control_flows.png)"
   ]
  },
  {
   "cell_type": "markdown",
   "id": "919fc5dd",
   "metadata": {
    "slideshow": {
     "slide_type": "subslide"
    }
   },
   "source": [
    "## Recap: Control Flow\n",
    "\n",
    "![Recap for loops](../images/recap_for_loops.png)"
   ]
  },
  {
   "cell_type": "markdown",
   "id": "a9a6328d",
   "metadata": {
    "slideshow": {
     "slide_type": "subslide"
    }
   },
   "source": [
    "Useful to remember: a string is also a sequence!"
   ]
  },
  {
   "cell_type": "code",
   "execution_count": 22,
   "id": "b79f0a4f",
   "metadata": {
    "slideshow": {
     "slide_type": "fragment"
    }
   },
   "outputs": [
    {
     "name": "stdout",
     "output_type": "stream",
     "text": [
      "P\n",
      "y\n",
      "t\n",
      "h\n",
      "o\n",
      "n\n"
     ]
    }
   ],
   "source": [
    "for letter in 'Python':\n",
    "    print(letter)"
   ]
  },
  {
   "cell_type": "markdown",
   "id": "0791e482",
   "metadata": {
    "slideshow": {
     "slide_type": "subslide"
    }
   },
   "source": [
    "## Recap: Control Flow\n",
    "\n",
    "![Recap conditional statements](../images/recap_conditional_statements.png)"
   ]
  },
  {
   "cell_type": "markdown",
   "id": "8cf5ef14",
   "metadata": {
    "slideshow": {
     "slide_type": "slide"
    }
   },
   "source": [
    "# Functions\n",
    "\n",
    "You have seen methods as part of objects, for example the `__init__` method or the `getPatientCount()` method on the patient object. Methods take parameters as input (id, name, age etc) and **do** something with/to them. Often they also `return` something (some 'output').\n",
    "\n",
    "Methods are defined by using the `def` keyword.\n",
    "\n",
    "```\n",
    "class Patient:\n",
    "\n",
    "    # init function and other code...\n",
    "    \n",
    "    def getPatientCount():\n",
    "        return Patient.count\n",
    "    \n",
    "```\n",
    "\n",
    "<img src=\"../images/function.jpg\" width=\"200\">\n",
    "\n",
    "A **function** is very similar to methods. The difference being that a function is not part of an object like a method is. You might have seen and used functions already, for example:    "
   ]
  },
  {
   "cell_type": "code",
   "execution_count": 18,
   "id": "565d0835",
   "metadata": {
    "slideshow": {
     "slide_type": "fragment"
    }
   },
   "outputs": [
    {
     "data": {
      "text/plain": [
       "29"
      ]
     },
     "execution_count": 18,
     "metadata": {},
     "output_type": "execute_result"
    }
   ],
   "source": [
    "list_of_bmis = [22, 25, 18, 29]\n",
    "max(list_of_bmis)"
   ]
  },
  {
   "cell_type": "markdown",
   "id": "532220da",
   "metadata": {
    "slideshow": {
     "slide_type": "subslide"
    }
   },
   "source": [
    "You can define your own functions by using the `def` keyword"
   ]
  },
  {
   "cell_type": "code",
   "execution_count": 19,
   "id": "ff968714",
   "metadata": {
    "slideshow": {
     "slide_type": "fragment"
    }
   },
   "outputs": [],
   "source": [
    "def bmi_classification(bmi):\n",
    "    if bmi < 20:\n",
    "        return 'underweight'\n",
    "    elif bmi < 25:\n",
    "        return 'normal weight'\n",
    "    else:\n",
    "        return 'overweight'"
   ]
  },
  {
   "cell_type": "markdown",
   "id": "e5a1c3dc",
   "metadata": {
    "slideshow": {
     "slide_type": "subslide"
    }
   },
   "source": [
    "You can then use this function in your own programs"
   ]
  },
  {
   "cell_type": "code",
   "execution_count": 20,
   "id": "e6e17078",
   "metadata": {
    "slideshow": {
     "slide_type": "fragment"
    }
   },
   "outputs": [
    {
     "data": {
      "text/plain": [
       "'normal weight'"
      ]
     },
     "execution_count": 20,
     "metadata": {},
     "output_type": "execute_result"
    }
   ],
   "source": [
    "bmi_classification(24.5)"
   ]
  },
  {
   "cell_type": "code",
   "execution_count": 21,
   "id": "9583242f",
   "metadata": {
    "slideshow": {
     "slide_type": "fragment"
    }
   },
   "outputs": [
    {
     "name": "stdout",
     "output_type": "stream",
     "text": [
      "normal weight\n",
      "overweight\n",
      "underweight\n",
      "overweight\n"
     ]
    }
   ],
   "source": [
    "list_of_bmis = [22, 25, 18, 29]\n",
    "\n",
    "for bmi in list_of_bmis:\n",
    "    print(bmi_classification(bmi))"
   ]
  },
  {
   "cell_type": "markdown",
   "id": "69232f57",
   "metadata": {
    "slideshow": {
     "slide_type": "slide"
    }
   },
   "source": [
    "# You already learned a lot!\n",
    "\n",
    "* Data types\n",
    "    * Numbers/Integer/Float/String/Boolean/Sequence\n",
    "* Data structures\n",
    "    * List/Dictionary/Set/Tuple\n",
    "* Variables\n",
    "* Object Oriented Programming\n",
    "    * Classes/Objects/Attributes/Methods\n",
    "* Operators\n",
    "    * Arithmetic/Assignment/Comparison/Logical/Identity/Membership\n",
    "* Control Flow\n",
    "    * If/elif/else\n",
    "    * for/while\n",
    "    * pass/break/continue"
   ]
  },
  {
   "cell_type": "markdown",
   "id": "fcdeee45",
   "metadata": {
    "slideshow": {
     "slide_type": "slide"
    }
   },
   "source": [
    "# A lot of it by trial and error...\n",
    "\n",
    "\"Create a list of 4 names and access the fourth name in the list\"\n",
    "\n",
    "<img src=\"../images/typing_start.jpg\" width=\"250\">\n",
    "\n",
    "![SyntaxError](../images/error_SyntaxError1.png)"
   ]
  },
  {
   "cell_type": "markdown",
   "id": "515d678f",
   "metadata": {
    "slideshow": {
     "slide_type": "subslide"
    }
   },
   "source": [
    "<img src=\"../images/typing_difficult.jpg\" width=\"250\">"
   ]
  },
  {
   "cell_type": "markdown",
   "id": "12523e5d",
   "metadata": {
    "slideshow": {
     "slide_type": "fragment"
    }
   },
   "source": [
    "![NameError](../images/error_NameError.png)\n",
    "\n"
   ]
  },
  {
   "cell_type": "markdown",
   "id": "e74fbcc8",
   "metadata": {
    "slideshow": {
     "slide_type": "subslide"
    }
   },
   "source": [
    "<img src=\"../images/typing_frustrated.jpg\" width=\"250\">\n",
    "\n",
    "![IndexError](../images/error_IndexError.png)\n"
   ]
  },
  {
   "cell_type": "markdown",
   "id": "c497a919",
   "metadata": {
    "slideshow": {
     "slide_type": "fragment"
    }
   },
   "source": [
    "\n",
    "<img src=\"../images/typing_slam.jpg\" width=\"250\">"
   ]
  },
  {
   "cell_type": "markdown",
   "id": "fa1d035a",
   "metadata": {
    "slideshow": {
     "slide_type": "slide"
    }
   },
   "source": [
    "<img src=\"../images/dont_panic.jpg\">"
   ]
  },
  {
   "cell_type": "markdown",
   "id": "8cd3fb6b",
   "metadata": {
    "slideshow": {
     "slide_type": "fragment"
    }
   },
   "source": [
    "# Errors are not as problematic as they appear to be"
   ]
  },
  {
   "cell_type": "markdown",
   "id": "ee6f6e4d",
   "metadata": {
    "slideshow": {
     "slide_type": "fragment"
    }
   },
   "source": [
    "# They are just trying to tell you something, so let's have a closer look"
   ]
  },
  {
   "cell_type": "markdown",
   "id": "7335d918",
   "metadata": {
    "slideshow": {
     "slide_type": "slide"
    }
   },
   "source": [
    "# 1. Errors and Exceptions: Why do they even exist?"
   ]
  },
  {
   "cell_type": "markdown",
   "id": "39151e83",
   "metadata": {
    "slideshow": {
     "slide_type": "fragment"
    }
   },
   "source": [
    "# Well. Because things go wrong."
   ]
  },
  {
   "cell_type": "markdown",
   "id": "462ec183",
   "metadata": {
    "slideshow": {
     "slide_type": "fragment"
    }
   },
   "source": [
    "# And when they go wrong, we don't want everything to come crashing down..."
   ]
  },
  {
   "cell_type": "markdown",
   "id": "b781cc7d",
   "metadata": {
    "slideshow": {
     "slide_type": "subslide"
    }
   },
   "source": [
    "## Anyone remember this?\n",
    "\n",
    "<img src=\"../images/bsod1.png\">"
   ]
  },
  {
   "cell_type": "markdown",
   "id": "d97189e5",
   "metadata": {
    "slideshow": {
     "slide_type": "subslide"
    }
   },
   "source": [
    "## Probably you guys are more familiar with\n",
    "\n",
    "<img src=\"../images/bsod2.jpg\">"
   ]
  },
  {
   "cell_type": "markdown",
   "id": "357cedcd",
   "metadata": {
    "slideshow": {
     "slide_type": "subslide"
    }
   },
   "source": [
    "## But either way, restarting the entire computer is not a very elegant way to handle something going wrong in a program\n",
    "\n",
    "<img src=\"../images/restarting.jpg\" width=\"500\">"
   ]
  },
  {
   "cell_type": "markdown",
   "id": "e2021e50",
   "metadata": {
    "slideshow": {
     "slide_type": "subslide"
    }
   },
   "source": [
    "# This is their purpose!\n",
    "# Errors help the program exiting gracefully when something goes wrong\n",
    "\n",
    "<img src=\"../images/graceful_exit.png\">"
   ]
  },
  {
   "cell_type": "code",
   "execution_count": 41,
   "id": "d2a73e1c",
   "metadata": {
    "slideshow": {
     "slide_type": "subslide"
    }
   },
   "outputs": [
    {
     "ename": "SyntaxError",
     "evalue": "invalid syntax (Temp/ipykernel_424/2779481092.py, line 3)",
     "output_type": "error",
     "traceback": [
      "\u001b[1;36m  File \u001b[1;32m\"C:\\Users\\NIELS~1.HAM\\AppData\\Local\\Temp/ipykernel_424/2779481092.py\"\u001b[1;36m, line \u001b[1;32m3\u001b[0m\n\u001b[1;33m    def __init__(self, name)\u001b[0m\n\u001b[1;37m                            ^\u001b[0m\n\u001b[1;31mSyntaxError\u001b[0m\u001b[1;31m:\u001b[0m invalid syntax\n"
     ]
    }
   ],
   "source": [
    "class Patient:\n",
    "        \n",
    "    def __init__(self, name)\n",
    "        self.name=name"
   ]
  },
  {
   "cell_type": "markdown",
   "id": "72479980",
   "metadata": {
    "slideshow": {
     "slide_type": "fragment"
    }
   },
   "source": [
    "## It's not pleasant to look at, but it is a whole lot better than restarting the computer"
   ]
  },
  {
   "cell_type": "markdown",
   "id": "b108fd0e",
   "metadata": {},
   "source": [
    "# TODO TODO TODO"
   ]
  },
  {
   "cell_type": "code",
   "execution_count": null,
   "id": "8b1d6eca",
   "metadata": {},
   "outputs": [],
   "source": []
  },
  {
   "cell_type": "markdown",
   "id": "56d9066b",
   "metadata": {
    "slideshow": {
     "slide_type": "slide"
    }
   },
   "source": [
    "# 2. Errors and Exceptions: Receiving and dealing with them\n",
    "\n",
    "There are 2 broad classes, namely:\n",
    "1. Syntax Errors: There's something wrong with the 'grammar' of our code\n",
    "2. Exceptions: Errors detected during execution are called exceptions and are not unconditionally fatal\n",
    "\n",
    "If an exception is not *handled*, it will result in an error message"
   ]
  },
  {
   "cell_type": "markdown",
   "id": "69397610",
   "metadata": {
    "slideshow": {
     "slide_type": "subslide"
    }
   },
   "source": [
    "# Components of an error message\n",
    "\n",
    "* Error type\n",
    "* Traceback\n",
    "* There's arrows!"
   ]
  },
  {
   "cell_type": "code",
   "execution_count": 25,
   "id": "c9700c0d",
   "metadata": {
    "slideshow": {
     "slide_type": "fragment"
    }
   },
   "outputs": [
    {
     "ename": "NameError",
     "evalue": "name 'ethnicity' is not defined",
     "output_type": "error",
     "traceback": [
      "\u001b[1;31m---------------------------------------------------------------------------\u001b[0m",
      "\u001b[1;31mNameError\u001b[0m                                 Traceback (most recent call last)",
      "\u001b[1;32mC:\\Users\\NIELS~1.HAM\\AppData\\Local\\Temp/ipykernel_424/4112194549.py\u001b[0m in \u001b[0;36m<module>\u001b[1;34m\u001b[0m\n\u001b[0;32m      5\u001b[0m         \u001b[0mself\u001b[0m\u001b[1;33m.\u001b[0m\u001b[0methnicity\u001b[0m\u001b[1;33m=\u001b[0m\u001b[0methnicity\u001b[0m\u001b[1;33m\u001b[0m\u001b[1;33m\u001b[0m\u001b[0m\n\u001b[0;32m      6\u001b[0m \u001b[1;33m\u001b[0m\u001b[0m\n\u001b[1;32m----> 7\u001b[1;33m \u001b[0mp1\u001b[0m \u001b[1;33m=\u001b[0m \u001b[0mPatient\u001b[0m\u001b[1;33m(\u001b[0m\u001b[1;34m'Niels'\u001b[0m\u001b[1;33m)\u001b[0m\u001b[1;33m\u001b[0m\u001b[1;33m\u001b[0m\u001b[0m\n\u001b[0m",
      "\u001b[1;32mC:\\Users\\NIELS~1.HAM\\AppData\\Local\\Temp/ipykernel_424/4112194549.py\u001b[0m in \u001b[0;36m__init__\u001b[1;34m(self, name)\u001b[0m\n\u001b[0;32m      3\u001b[0m     \u001b[1;32mdef\u001b[0m \u001b[0m__init__\u001b[0m\u001b[1;33m(\u001b[0m\u001b[0mself\u001b[0m\u001b[1;33m,\u001b[0m \u001b[0mname\u001b[0m\u001b[1;33m)\u001b[0m\u001b[1;33m:\u001b[0m\u001b[1;33m\u001b[0m\u001b[1;33m\u001b[0m\u001b[0m\n\u001b[0;32m      4\u001b[0m         \u001b[0mself\u001b[0m\u001b[1;33m.\u001b[0m\u001b[0mname\u001b[0m\u001b[1;33m=\u001b[0m\u001b[0mname\u001b[0m\u001b[1;33m\u001b[0m\u001b[1;33m\u001b[0m\u001b[0m\n\u001b[1;32m----> 5\u001b[1;33m         \u001b[0mself\u001b[0m\u001b[1;33m.\u001b[0m\u001b[0methnicity\u001b[0m\u001b[1;33m=\u001b[0m\u001b[0methnicity\u001b[0m\u001b[1;33m\u001b[0m\u001b[1;33m\u001b[0m\u001b[0m\n\u001b[0m\u001b[0;32m      6\u001b[0m \u001b[1;33m\u001b[0m\u001b[0m\n\u001b[0;32m      7\u001b[0m \u001b[0mp1\u001b[0m \u001b[1;33m=\u001b[0m \u001b[0mPatient\u001b[0m\u001b[1;33m(\u001b[0m\u001b[1;34m'Niels'\u001b[0m\u001b[1;33m)\u001b[0m\u001b[1;33m\u001b[0m\u001b[1;33m\u001b[0m\u001b[0m\n",
      "\u001b[1;31mNameError\u001b[0m: name 'ethnicity' is not defined"
     ]
    }
   ],
   "source": [
    "class Patient:\n",
    "        \n",
    "    def __init__(self, name):\n",
    "        self.name=name\n",
    "        self.ethnicity=ethnicity\n",
    "        \n",
    "p1 = Patient('Niels')"
   ]
  },
  {
   "cell_type": "markdown",
   "id": "5d577ff0",
   "metadata": {
    "slideshow": {
     "slide_type": "subslide"
    }
   },
   "source": [
    "# Types of errors\n",
    "\n",
    "* SyntaxError\n",
    "* NameError\n",
    "* IndexError\n",
    "* IndentationError\n",
    "* KeyError\n",
    "* FileNotFoundError\n",
    "* IOError\n",
    "* ImportError\n",
    "* TypeError\n",
    "* UnicodeError\n",
    "* ValueError\n",
    "* ZeroDivisionError"
   ]
  },
  {
   "cell_type": "markdown",
   "id": "81f37107",
   "metadata": {
    "slideshow": {
     "slide_type": "subslide"
    }
   },
   "source": [
    "# Let's look at a few of these"
   ]
  },
  {
   "cell_type": "markdown",
   "id": "26fc9d97",
   "metadata": {
    "slideshow": {
     "slide_type": "subslide"
    }
   },
   "source": [
    "# SyntaxError\n",
    "\n",
    "There's something wrong with the 'grammar' of our code\n",
    "\n",
    "For example, python expects a method definition to end with a colon `:`"
   ]
  },
  {
   "cell_type": "code",
   "execution_count": 26,
   "id": "32d851f2",
   "metadata": {
    "slideshow": {
     "slide_type": "fragment"
    }
   },
   "outputs": [
    {
     "ename": "SyntaxError",
     "evalue": "invalid syntax (Temp/ipykernel_424/2779481092.py, line 3)",
     "output_type": "error",
     "traceback": [
      "\u001b[1;36m  File \u001b[1;32m\"C:\\Users\\NIELS~1.HAM\\AppData\\Local\\Temp/ipykernel_424/2779481092.py\"\u001b[1;36m, line \u001b[1;32m3\u001b[0m\n\u001b[1;33m    def __init__(self, name)\u001b[0m\n\u001b[1;37m                            ^\u001b[0m\n\u001b[1;31mSyntaxError\u001b[0m\u001b[1;31m:\u001b[0m invalid syntax\n"
     ]
    }
   ],
   "source": [
    "class Patient:\n",
    "        \n",
    "    def __init__(self, name)\n",
    "        self.name=name"
   ]
  },
  {
   "cell_type": "markdown",
   "id": "e79ca3e1",
   "metadata": {
    "slideshow": {
     "slide_type": "subslide"
    }
   },
   "source": [
    "# NameError\n",
    "\n",
    "Usually we are trying to use/access a variable before it has been defined. Before we assigned a value to it"
   ]
  },
  {
   "cell_type": "code",
   "execution_count": 27,
   "id": "3e02d1fe",
   "metadata": {
    "slideshow": {
     "slide_type": "fragment"
    }
   },
   "outputs": [
    {
     "data": {
      "text/plain": [
       "1"
      ]
     },
     "execution_count": 27,
     "metadata": {},
     "output_type": "execute_result"
    }
   ],
   "source": [
    "a = 1\n",
    "a"
   ]
  },
  {
   "cell_type": "code",
   "execution_count": 28,
   "id": "a35885be",
   "metadata": {
    "slideshow": {
     "slide_type": "fragment"
    }
   },
   "outputs": [
    {
     "ename": "NameError",
     "evalue": "name 'b' is not defined",
     "output_type": "error",
     "traceback": [
      "\u001b[1;31m---------------------------------------------------------------------------\u001b[0m",
      "\u001b[1;31mNameError\u001b[0m                                 Traceback (most recent call last)",
      "\u001b[1;32mC:\\Users\\NIELS~1.HAM\\AppData\\Local\\Temp/ipykernel_424/1685013873.py\u001b[0m in \u001b[0;36m<module>\u001b[1;34m\u001b[0m\n\u001b[1;32m----> 1\u001b[1;33m \u001b[0mb\u001b[0m\u001b[1;33m\u001b[0m\u001b[1;33m\u001b[0m\u001b[0m\n\u001b[0m",
      "\u001b[1;31mNameError\u001b[0m: name 'b' is not defined"
     ]
    }
   ],
   "source": [
    "b"
   ]
  },
  {
   "cell_type": "markdown",
   "id": "dd4b600f",
   "metadata": {
    "slideshow": {
     "slide_type": "subslide"
    }
   },
   "source": [
    "# IndentationError"
   ]
  },
  {
   "cell_type": "code",
   "execution_count": 30,
   "id": "6806c0a4",
   "metadata": {
    "slideshow": {
     "slide_type": "fragment"
    }
   },
   "outputs": [
    {
     "ename": "IndentationError",
     "evalue": "unindent does not match any outer indentation level (<tokenize>, line 6)",
     "output_type": "error",
     "traceback": [
      "\u001b[1;36m  File \u001b[1;32m\"<tokenize>\"\u001b[1;36m, line \u001b[1;32m6\u001b[0m\n\u001b[1;33m    print('a is larger than b')\u001b[0m\n\u001b[1;37m    ^\u001b[0m\n\u001b[1;31mIndentationError\u001b[0m\u001b[1;31m:\u001b[0m unindent does not match any outer indentation level\n"
     ]
    }
   ],
   "source": [
    "a = 2\n",
    "b = 1\n",
    "\n",
    "if a > b:\n",
    "    print('comparing...')\n",
    " print('a is larger than b')"
   ]
  },
  {
   "cell_type": "markdown",
   "id": "898d08b4",
   "metadata": {
    "slideshow": {
     "slide_type": "subslide"
    }
   },
   "source": [
    "# KeyError\n",
    "\n",
    "If a key value cannot be found in a data structure, such as a dictionary"
   ]
  },
  {
   "cell_type": "code",
   "execution_count": 31,
   "id": "6980de53",
   "metadata": {
    "slideshow": {
     "slide_type": "fragment"
    }
   },
   "outputs": [
    {
     "ename": "KeyError",
     "evalue": "5",
     "output_type": "error",
     "traceback": [
      "\u001b[1;31m---------------------------------------------------------------------------\u001b[0m",
      "\u001b[1;31mKeyError\u001b[0m                                  Traceback (most recent call last)",
      "\u001b[1;32mC:\\Users\\NIELS~1.HAM\\AppData\\Local\\Temp/ipykernel_424/169312155.py\u001b[0m in \u001b[0;36m<module>\u001b[1;34m\u001b[0m\n\u001b[0;32m      1\u001b[0m \u001b[0mstudents\u001b[0m \u001b[1;33m=\u001b[0m \u001b[1;33m{\u001b[0m\u001b[1;36m1\u001b[0m\u001b[1;33m:\u001b[0m \u001b[1;34m'Anton'\u001b[0m\u001b[1;33m,\u001b[0m \u001b[1;36m2\u001b[0m\u001b[1;33m:\u001b[0m \u001b[1;34m'Bettina'\u001b[0m\u001b[1;33m,\u001b[0m \u001b[1;36m3\u001b[0m\u001b[1;33m:\u001b[0m \u001b[1;34m'Marijn'\u001b[0m\u001b[1;33m}\u001b[0m\u001b[1;33m\u001b[0m\u001b[1;33m\u001b[0m\u001b[0m\n\u001b[1;32m----> 2\u001b[1;33m \u001b[0mstudents\u001b[0m\u001b[1;33m[\u001b[0m\u001b[1;36m5\u001b[0m\u001b[1;33m]\u001b[0m\u001b[1;33m\u001b[0m\u001b[1;33m\u001b[0m\u001b[0m\n\u001b[0m",
      "\u001b[1;31mKeyError\u001b[0m: 5"
     ]
    }
   ],
   "source": [
    "students = {1: 'Anton', 2: 'Bettina', 3: 'Marijn'}\n",
    "students[5]"
   ]
  },
  {
   "cell_type": "markdown",
   "id": "02946121",
   "metadata": {
    "slideshow": {
     "slide_type": "subslide"
    }
   },
   "source": [
    "# ImportError/ModuleNotFoundError\n",
    "\n",
    "Until now we've only been using python modules which are installed by default ([the standard library](https://docs.python.org/3/library/)), such as `math`, but later you will also be using additional modules which are not part of the standard library and need to be installed first."
   ]
  },
  {
   "cell_type": "code",
   "execution_count": 32,
   "id": "1411e0ed",
   "metadata": {
    "slideshow": {
     "slide_type": "fragment"
    }
   },
   "outputs": [
    {
     "ename": "ModuleNotFoundError",
     "evalue": "No module named 'tensorflow'",
     "output_type": "error",
     "traceback": [
      "\u001b[1;31m---------------------------------------------------------------------------\u001b[0m",
      "\u001b[1;31mModuleNotFoundError\u001b[0m                       Traceback (most recent call last)",
      "\u001b[1;32mC:\\Users\\NIELS~1.HAM\\AppData\\Local\\Temp/ipykernel_424/4294963926.py\u001b[0m in \u001b[0;36m<module>\u001b[1;34m\u001b[0m\n\u001b[1;32m----> 1\u001b[1;33m \u001b[1;32mimport\u001b[0m \u001b[0mtensorflow\u001b[0m\u001b[1;33m\u001b[0m\u001b[1;33m\u001b[0m\u001b[0m\n\u001b[0m",
      "\u001b[1;31mModuleNotFoundError\u001b[0m: No module named 'tensorflow'"
     ]
    }
   ],
   "source": [
    "import tensorflow"
   ]
  },
  {
   "cell_type": "markdown",
   "id": "08ec3c89",
   "metadata": {
    "slideshow": {
     "slide_type": "subslide"
    }
   },
   "source": [
    "# StackOverflow"
   ]
  },
  {
   "cell_type": "markdown",
   "id": "81a3e0e2",
   "metadata": {
    "slideshow": {
     "slide_type": "fragment"
    }
   },
   "source": [
    "<img src=\"../images/error_IndexError.png\">\n",
    "\n",
    "[Search StackOverflow](https://www.google.com/search?q=IndexError%3A%20list%20index%20out%20of%20range+site:stackoverflow.com)"
   ]
  },
  {
   "cell_type": "markdown",
   "id": "dbe91928",
   "metadata": {
    "slideshow": {
     "slide_type": "slide"
    }
   },
   "source": [
    "# Errors and Exceptions: Handling \n",
    "\n",
    "So what do we use this knowledge for? What are the benefits?\n",
    "\n",
    "1. Seperate in your program:\n",
    "    * what's supposed to happen when everything works, from...\n",
    "    * ...what happens when things go wrong\n",
    "2. Prevent our program from crashing if it is used in a non-proper way, by writing code to handle exceptional cases \n",
    "\n",
    "Let's look at some examples"
   ]
  },
  {
   "cell_type": "markdown",
   "id": "d54d1761",
   "metadata": {
    "slideshow": {
     "slide_type": "subslide"
    }
   },
   "source": [
    "## Try/Except: Example 1\n",
    "\n",
    "User input"
   ]
  },
  {
   "cell_type": "markdown",
   "id": "f7bb9408",
   "metadata": {
    "slideshow": {
     "slide_type": "fragment"
    }
   },
   "source": [
    "Some of you have already explored the input() function, which asks the user to input a value. Using this, the value that is entered is automatically of type string."
   ]
  },
  {
   "cell_type": "code",
   "execution_count": 33,
   "id": "f886b6af",
   "metadata": {
    "slideshow": {
     "slide_type": "fragment"
    }
   },
   "outputs": [
    {
     "name": "stdout",
     "output_type": "stream",
     "text": [
      "Enter a value here: \n"
     ]
    },
    {
     "data": {
      "text/plain": [
       "str"
      ]
     },
     "execution_count": 33,
     "metadata": {},
     "output_type": "execute_result"
    }
   ],
   "source": [
    "a = input('Enter a value here: ')\n",
    "type(a)"
   ]
  },
  {
   "cell_type": "markdown",
   "id": "4176d113",
   "metadata": {
    "slideshow": {
     "slide_type": "subslide"
    }
   },
   "source": [
    "So if you want the user to enter a number, say an integer, you need to change the data type yourself."
   ]
  },
  {
   "cell_type": "code",
   "execution_count": 34,
   "id": "42935fc4",
   "metadata": {
    "slideshow": {
     "slide_type": "fragment"
    }
   },
   "outputs": [
    {
     "name": "stdout",
     "output_type": "stream",
     "text": [
      "Give me an integer: \n"
     ]
    },
    {
     "ename": "ValueError",
     "evalue": "invalid literal for int() with base 10: ''",
     "output_type": "error",
     "traceback": [
      "\u001b[1;31m---------------------------------------------------------------------------\u001b[0m",
      "\u001b[1;31mValueError\u001b[0m                                Traceback (most recent call last)",
      "\u001b[1;32mC:\\Users\\NIELS~1.HAM\\AppData\\Local\\Temp/ipykernel_424/3058163054.py\u001b[0m in \u001b[0;36m<module>\u001b[1;34m\u001b[0m\n\u001b[0;32m      2\u001b[0m \u001b[1;33m\u001b[0m\u001b[0m\n\u001b[0;32m      3\u001b[0m \u001b[1;31m# the int() function turns a value into an integer\u001b[0m\u001b[1;33m\u001b[0m\u001b[1;33m\u001b[0m\u001b[0m\n\u001b[1;32m----> 4\u001b[1;33m \u001b[0mint\u001b[0m\u001b[1;33m(\u001b[0m\u001b[0ma\u001b[0m\u001b[1;33m)\u001b[0m\u001b[1;33m\u001b[0m\u001b[1;33m\u001b[0m\u001b[0m\n\u001b[0m",
      "\u001b[1;31mValueError\u001b[0m: invalid literal for int() with base 10: ''"
     ]
    }
   ],
   "source": [
    "a = input('Give me an integer: ')\n",
    "\n",
    "# the int() function turns a value into an integer\n",
    "int(a)"
   ]
  },
  {
   "cell_type": "markdown",
   "id": "e3af98ce",
   "metadata": {
    "slideshow": {
     "slide_type": "subslide"
    }
   },
   "source": [
    "If the int() function receives a value it cannot turn into an integer, it raises a ValueError. You can use this knowledge to prevent your program from breaking and stopping when a user enters a non-integer, like so:"
   ]
  },
  {
   "cell_type": "code",
   "execution_count": 35,
   "id": "8ed5118f",
   "metadata": {
    "slideshow": {
     "slide_type": "fragment"
    }
   },
   "outputs": [
    {
     "name": "stdout",
     "output_type": "stream",
     "text": [
      "Please enter a number: \n",
      "Oops!  That was no valid number.  Try again...\n",
      "Please enter a number: \n",
      "Oops!  That was no valid number.  Try again...\n",
      "Please enter a number: \n",
      "Oops!  That was no valid number.  Try again...\n",
      "Please enter a number: 10\n",
      "You (finally) entered a valid number and it was:  10\n"
     ]
    }
   ],
   "source": [
    "while True:\n",
    "    try:\n",
    "        x = int(input('Please enter a number: '))\n",
    "        break\n",
    "    except ValueError:\n",
    "        print('Oops!  That was no valid number.  Try again...')\n",
    "        \n",
    "print('You (finally) entered a valid number and it was: ', x)"
   ]
  },
  {
   "cell_type": "markdown",
   "id": "9a5bfdfe",
   "metadata": {
    "slideshow": {
     "slide_type": "subslide"
    }
   },
   "source": [
    "## Try/Except: Example 2\n",
    "\n",
    "File reading"
   ]
  },
  {
   "cell_type": "code",
   "execution_count": 36,
   "id": "bbf7a24d",
   "metadata": {
    "slideshow": {
     "slide_type": "fragment"
    }
   },
   "outputs": [
    {
     "name": "stdout",
     "output_type": "stream",
     "text": [
      "{\n",
      " \"cells\": [\n",
      "  {\n",
      "   \"cell_type\": \"markdown\",\n",
      "   \"\n"
     ]
    }
   ],
   "source": [
    "# open a file from disk, like this notebook\n",
    "with open('Lecture06-ErrorsAndExceptions.ipynb', 'r') as f:\n",
    "    # print the first part\n",
    "    print(f.read()[:50])"
   ]
  },
  {
   "cell_type": "code",
   "execution_count": 37,
   "id": "9d3e20c7",
   "metadata": {
    "slideshow": {
     "slide_type": "subslide"
    }
   },
   "outputs": [
    {
     "name": "stdout",
     "output_type": "stream",
     "text": [
      "You are probably using the wrong filename. Encountered an error:\n",
      "[Errno 2] No such file or directory: 'Lecture06-ErrorsAndExceptions2.ipynb'\n"
     ]
    }
   ],
   "source": [
    "try:\n",
    "    # open a file from disk, like this notebook\n",
    "    with open('Lecture06-ErrorsAndExceptions2.ipynb', 'r') as f:\n",
    "        # print the first part\n",
    "        print(f.read()[:40])\n",
    "        \n",
    "except FileNotFoundError as e:\n",
    "    print('You are probably using the wrong filename. Encountered an error:')\n",
    "    print(e)"
   ]
  },
  {
   "cell_type": "markdown",
   "id": "514dbc13",
   "metadata": {
    "slideshow": {
     "slide_type": "slide"
    }
   },
   "source": [
    "# Errors and Exceptions: Raising\n",
    "\n",
    "If you want to signal to the user that something went wrong, you can `raise` an error.\n",
    "\n",
    "For example, the `Patient` class from week 4 could be extended with an updateAge() method, which updates (sets) the age of a patient. In order to prevent strings being set as age, you should do a check to see if the input is really an integer."
   ]
  },
  {
   "cell_type": "markdown",
   "id": "5b5dfe73",
   "metadata": {
    "slideshow": {
     "slide_type": "subslide"
    }
   },
   "source": [
    "One way to do this is by using if/else"
   ]
  },
  {
   "cell_type": "code",
   "execution_count": 38,
   "id": "c88e3af3",
   "metadata": {
    "slideshow": {
     "slide_type": "fragment"
    }
   },
   "outputs": [
    {
     "name": "stdout",
     "output_type": "stream",
     "text": [
      "Age was not updated. Age must be a number!\n"
     ]
    },
    {
     "ename": "AttributeError",
     "evalue": "'Patient' object has no attribute 'age'",
     "output_type": "error",
     "traceback": [
      "\u001b[1;31m---------------------------------------------------------------------------\u001b[0m",
      "\u001b[1;31mAttributeError\u001b[0m                            Traceback (most recent call last)",
      "\u001b[1;32mC:\\Users\\NIELS~1.HAM\\AppData\\Local\\Temp/ipykernel_424/3340607542.py\u001b[0m in \u001b[0;36m<module>\u001b[1;34m\u001b[0m\n\u001b[0;32m     16\u001b[0m \u001b[1;33m\u001b[0m\u001b[0m\n\u001b[0;32m     17\u001b[0m \u001b[0mp1\u001b[0m \u001b[1;33m=\u001b[0m \u001b[0mPatient\u001b[0m\u001b[1;33m(\u001b[0m\u001b[1;34m'Niels'\u001b[0m\u001b[1;33m,\u001b[0m \u001b[1;34m'M'\u001b[0m\u001b[1;33m,\u001b[0m \u001b[1;34m'39'\u001b[0m\u001b[1;33m)\u001b[0m\u001b[1;33m\u001b[0m\u001b[1;33m\u001b[0m\u001b[0m\n\u001b[1;32m---> 18\u001b[1;33m \u001b[0mp1\u001b[0m\u001b[1;33m.\u001b[0m\u001b[0mage\u001b[0m\u001b[1;33m\u001b[0m\u001b[1;33m\u001b[0m\u001b[0m\n\u001b[0m",
      "\u001b[1;31mAttributeError\u001b[0m: 'Patient' object has no attribute 'age'"
     ]
    }
   ],
   "source": [
    "# Patient Class\n",
    "class Patient:\n",
    "\n",
    "    def __init__(self, name, gender, age):\n",
    "        self.name=name \n",
    "        self.gender=gender\n",
    "        self.updateAge(age)\n",
    "    \n",
    "\n",
    "    # method for updating the age of the patient\n",
    "    def updateAge(self, age):\n",
    "        if (type(age) == int): # checks that the age is an integer\n",
    "            self.age=age\n",
    "        else:\n",
    "            print(\"Age was not updated. Age must be a number!\")\n",
    "            \n",
    "p1 = Patient('Niels', 'M', '39')\n",
    "p1.age"
   ]
  },
  {
   "cell_type": "markdown",
   "id": "a89876fe",
   "metadata": {
    "slideshow": {
     "slide_type": "fragment"
    }
   },
   "source": [
    "Remember though, that it is helpful to the readers of your code if they can **separate what's supposed to happen** from **what's going wrong**.\n",
    "\n",
    "Even though a message is printed, we could make it clearer that something goes wrong if age is not an integer.\n",
    "\n",
    "Moreover, as you can see above, the program is not terminated once age is invalid at line 17, but line 18 is still run."
   ]
  },
  {
   "cell_type": "markdown",
   "id": "c8096910",
   "metadata": {
    "slideshow": {
     "slide_type": "subslide"
    }
   },
   "source": [
    "Another way: `raise` a `ValueError`"
   ]
  },
  {
   "cell_type": "code",
   "execution_count": 39,
   "id": "77e67780",
   "metadata": {
    "slideshow": {
     "slide_type": "fragment"
    }
   },
   "outputs": [
    {
     "ename": "ValueError",
     "evalue": "Age must be a number! Age was not updated. ",
     "output_type": "error",
     "traceback": [
      "\u001b[1;31m---------------------------------------------------------------------------\u001b[0m",
      "\u001b[1;31mValueError\u001b[0m                                Traceback (most recent call last)",
      "\u001b[1;32mC:\\Users\\NIELS~1.HAM\\AppData\\Local\\Temp/ipykernel_424/3830491003.py\u001b[0m in \u001b[0;36m<module>\u001b[1;34m\u001b[0m\n\u001b[0;32m     15\u001b[0m             \u001b[1;32mraise\u001b[0m \u001b[0mValueError\u001b[0m\u001b[1;33m(\u001b[0m\u001b[1;34m\"Age must be a number! Age was not updated. \"\u001b[0m\u001b[1;33m)\u001b[0m\u001b[1;33m\u001b[0m\u001b[1;33m\u001b[0m\u001b[0m\n\u001b[0;32m     16\u001b[0m \u001b[1;33m\u001b[0m\u001b[0m\n\u001b[1;32m---> 17\u001b[1;33m \u001b[0mp1\u001b[0m \u001b[1;33m=\u001b[0m \u001b[0mPatient\u001b[0m\u001b[1;33m(\u001b[0m\u001b[1;34m'Niels'\u001b[0m\u001b[1;33m,\u001b[0m \u001b[1;34m'M'\u001b[0m\u001b[1;33m,\u001b[0m \u001b[1;34m'39'\u001b[0m\u001b[1;33m)\u001b[0m\u001b[1;33m\u001b[0m\u001b[1;33m\u001b[0m\u001b[0m\n\u001b[0m\u001b[0;32m     18\u001b[0m \u001b[0mp1\u001b[0m\u001b[1;33m.\u001b[0m\u001b[0mage\u001b[0m\u001b[1;33m\u001b[0m\u001b[1;33m\u001b[0m\u001b[0m\n",
      "\u001b[1;32mC:\\Users\\NIELS~1.HAM\\AppData\\Local\\Temp/ipykernel_424/3830491003.py\u001b[0m in \u001b[0;36m__init__\u001b[1;34m(self, name, gender, age)\u001b[0m\n\u001b[0;32m      5\u001b[0m         \u001b[0mself\u001b[0m\u001b[1;33m.\u001b[0m\u001b[0mname\u001b[0m\u001b[1;33m=\u001b[0m\u001b[0mname\u001b[0m\u001b[1;33m\u001b[0m\u001b[1;33m\u001b[0m\u001b[0m\n\u001b[0;32m      6\u001b[0m         \u001b[0mself\u001b[0m\u001b[1;33m.\u001b[0m\u001b[0mgender\u001b[0m\u001b[1;33m=\u001b[0m\u001b[0mgender\u001b[0m\u001b[1;33m\u001b[0m\u001b[1;33m\u001b[0m\u001b[0m\n\u001b[1;32m----> 7\u001b[1;33m         \u001b[0mself\u001b[0m\u001b[1;33m.\u001b[0m\u001b[0mupdateAge\u001b[0m\u001b[1;33m(\u001b[0m\u001b[0mage\u001b[0m\u001b[1;33m)\u001b[0m\u001b[1;33m\u001b[0m\u001b[1;33m\u001b[0m\u001b[0m\n\u001b[0m\u001b[0;32m      8\u001b[0m \u001b[1;33m\u001b[0m\u001b[0m\n\u001b[0;32m      9\u001b[0m \u001b[1;33m\u001b[0m\u001b[0m\n",
      "\u001b[1;32mC:\\Users\\NIELS~1.HAM\\AppData\\Local\\Temp/ipykernel_424/3830491003.py\u001b[0m in \u001b[0;36mupdateAge\u001b[1;34m(self, age)\u001b[0m\n\u001b[0;32m     13\u001b[0m             \u001b[0mself\u001b[0m\u001b[1;33m.\u001b[0m\u001b[0mage\u001b[0m\u001b[1;33m=\u001b[0m\u001b[0mage\u001b[0m\u001b[1;33m\u001b[0m\u001b[1;33m\u001b[0m\u001b[0m\n\u001b[0;32m     14\u001b[0m         \u001b[1;32melse\u001b[0m\u001b[1;33m:\u001b[0m\u001b[1;33m\u001b[0m\u001b[1;33m\u001b[0m\u001b[0m\n\u001b[1;32m---> 15\u001b[1;33m             \u001b[1;32mraise\u001b[0m \u001b[0mValueError\u001b[0m\u001b[1;33m(\u001b[0m\u001b[1;34m\"Age must be a number! Age was not updated. \"\u001b[0m\u001b[1;33m)\u001b[0m\u001b[1;33m\u001b[0m\u001b[1;33m\u001b[0m\u001b[0m\n\u001b[0m\u001b[0;32m     16\u001b[0m \u001b[1;33m\u001b[0m\u001b[0m\n\u001b[0;32m     17\u001b[0m \u001b[0mp1\u001b[0m \u001b[1;33m=\u001b[0m \u001b[0mPatient\u001b[0m\u001b[1;33m(\u001b[0m\u001b[1;34m'Niels'\u001b[0m\u001b[1;33m,\u001b[0m \u001b[1;34m'M'\u001b[0m\u001b[1;33m,\u001b[0m \u001b[1;34m'39'\u001b[0m\u001b[1;33m)\u001b[0m\u001b[1;33m\u001b[0m\u001b[1;33m\u001b[0m\u001b[0m\n",
      "\u001b[1;31mValueError\u001b[0m: Age must be a number! Age was not updated. "
     ]
    }
   ],
   "source": [
    "# Patient Class\n",
    "class Patient:\n",
    "\n",
    "    def __init__(self, name, gender, age):\n",
    "        self.name=name \n",
    "        self.gender=gender\n",
    "        self.updateAge(age)\n",
    "    \n",
    "\n",
    "    # method for updating the age of the patient\n",
    "    def updateAge(self, age):\n",
    "        if (type(age) == int): # checks that the age is an integer\n",
    "            self.age=age\n",
    "        else:\n",
    "            raise ValueError(\"Age must be a number! Age was not updated. \")\n",
    "            \n",
    "p1 = Patient('Niels', 'M', '39')\n",
    "p1.age"
   ]
  },
  {
   "cell_type": "markdown",
   "id": "c06ff499",
   "metadata": {
    "slideshow": {
     "slide_type": "subslide"
    }
   },
   "source": [
    "A more concise way to do something like this, is by using an `assert` statement. We can use this in the following way:"
   ]
  },
  {
   "cell_type": "code",
   "execution_count": 40,
   "id": "b5034701",
   "metadata": {
    "slideshow": {
     "slide_type": "fragment"
    }
   },
   "outputs": [
    {
     "ename": "AssertionError",
     "evalue": "Age is not an integer",
     "output_type": "error",
     "traceback": [
      "\u001b[1;31m---------------------------------------------------------------------------\u001b[0m",
      "\u001b[1;31mAssertionError\u001b[0m                            Traceback (most recent call last)",
      "\u001b[1;32mC:\\Users\\NIELS~1.HAM\\AppData\\Local\\Temp/ipykernel_424/801670399.py\u001b[0m in \u001b[0;36m<module>\u001b[1;34m\u001b[0m\n\u001b[0;32m     16\u001b[0m         \u001b[0mself\u001b[0m\u001b[1;33m.\u001b[0m\u001b[0mage\u001b[0m\u001b[1;33m=\u001b[0m\u001b[0mage\u001b[0m\u001b[1;33m\u001b[0m\u001b[1;33m\u001b[0m\u001b[0m\n\u001b[0;32m     17\u001b[0m \u001b[1;33m\u001b[0m\u001b[0m\n\u001b[1;32m---> 18\u001b[1;33m \u001b[0mp1\u001b[0m \u001b[1;33m=\u001b[0m \u001b[0mPatient\u001b[0m\u001b[1;33m(\u001b[0m\u001b[1;34m'Niels'\u001b[0m\u001b[1;33m,\u001b[0m \u001b[1;34m'M'\u001b[0m\u001b[1;33m,\u001b[0m \u001b[1;34m'39'\u001b[0m\u001b[1;33m)\u001b[0m\u001b[1;33m\u001b[0m\u001b[1;33m\u001b[0m\u001b[0m\n\u001b[0m\u001b[0;32m     19\u001b[0m \u001b[0mp1\u001b[0m\u001b[1;33m.\u001b[0m\u001b[0mage\u001b[0m\u001b[1;33m\u001b[0m\u001b[1;33m\u001b[0m\u001b[0m\n",
      "\u001b[1;32mC:\\Users\\NIELS~1.HAM\\AppData\\Local\\Temp/ipykernel_424/801670399.py\u001b[0m in \u001b[0;36m__init__\u001b[1;34m(self, name, gender, age)\u001b[0m\n\u001b[0;32m      5\u001b[0m         \u001b[0mself\u001b[0m\u001b[1;33m.\u001b[0m\u001b[0mname\u001b[0m\u001b[1;33m=\u001b[0m\u001b[0mname\u001b[0m\u001b[1;33m\u001b[0m\u001b[1;33m\u001b[0m\u001b[0m\n\u001b[0;32m      6\u001b[0m         \u001b[0mself\u001b[0m\u001b[1;33m.\u001b[0m\u001b[0mgender\u001b[0m\u001b[1;33m=\u001b[0m\u001b[0mgender\u001b[0m\u001b[1;33m\u001b[0m\u001b[1;33m\u001b[0m\u001b[0m\n\u001b[1;32m----> 7\u001b[1;33m         \u001b[0mself\u001b[0m\u001b[1;33m.\u001b[0m\u001b[0mupdateAge\u001b[0m\u001b[1;33m(\u001b[0m\u001b[0mage\u001b[0m\u001b[1;33m)\u001b[0m\u001b[1;33m\u001b[0m\u001b[1;33m\u001b[0m\u001b[0m\n\u001b[0m\u001b[0;32m      8\u001b[0m \u001b[1;33m\u001b[0m\u001b[0m\n\u001b[0;32m      9\u001b[0m \u001b[1;33m\u001b[0m\u001b[0m\n",
      "\u001b[1;32mC:\\Users\\NIELS~1.HAM\\AppData\\Local\\Temp/ipykernel_424/801670399.py\u001b[0m in \u001b[0;36mupdateAge\u001b[1;34m(self, age)\u001b[0m\n\u001b[0;32m     11\u001b[0m     \u001b[1;32mdef\u001b[0m \u001b[0mupdateAge\u001b[0m\u001b[1;33m(\u001b[0m\u001b[0mself\u001b[0m\u001b[1;33m,\u001b[0m \u001b[0mage\u001b[0m\u001b[1;33m)\u001b[0m\u001b[1;33m:\u001b[0m\u001b[1;33m\u001b[0m\u001b[1;33m\u001b[0m\u001b[0m\n\u001b[0;32m     12\u001b[0m \u001b[1;33m\u001b[0m\u001b[0m\n\u001b[1;32m---> 13\u001b[1;33m         \u001b[1;32massert\u001b[0m \u001b[1;33m(\u001b[0m\u001b[0mtype\u001b[0m\u001b[1;33m(\u001b[0m\u001b[0mage\u001b[0m\u001b[1;33m)\u001b[0m \u001b[1;33m==\u001b[0m \u001b[0mint\u001b[0m\u001b[1;33m)\u001b[0m\u001b[1;33m,\u001b[0m \u001b[1;34m\"Age is not an integer\"\u001b[0m \u001b[1;31m# note: message describes what happens when the statement fails\u001b[0m\u001b[1;33m\u001b[0m\u001b[1;33m\u001b[0m\u001b[0m\n\u001b[0m\u001b[0;32m     14\u001b[0m \u001b[1;33m\u001b[0m\u001b[0m\n\u001b[0;32m     15\u001b[0m         \u001b[1;31m# if the assert statement passes, the code keeps running, otherwise an AssertionError is raised\u001b[0m\u001b[1;33m\u001b[0m\u001b[1;33m\u001b[0m\u001b[0m\n",
      "\u001b[1;31mAssertionError\u001b[0m: Age is not an integer"
     ]
    }
   ],
   "source": [
    "# Patient Class\n",
    "class Patient:\n",
    "\n",
    "    def __init__(self, name, gender, age):\n",
    "        self.name=name \n",
    "        self.gender=gender\n",
    "        self.updateAge(age)\n",
    "    \n",
    "\n",
    "    # method for updating the age of the patient\n",
    "    def updateAge(self, age):\n",
    "        \n",
    "        assert (type(age) == int), \"Age is not an integer\" # note: message describes what happens when the statement fails\n",
    "        \n",
    "        # if the assert statement passes, the code keeps running, otherwise an AssertionError is raised\n",
    "        self.age=age\n",
    "\n",
    "p1 = Patient('Niels', 'M', '39')\n",
    "p1.age"
   ]
  },
  {
   "cell_type": "markdown",
   "id": "1fdf6984",
   "metadata": {
    "slideshow": {
     "slide_type": "slide"
    }
   },
   "source": [
    "# Takeaway messages\n",
    "\n",
    "* Don't be scared of errors.\n",
    "* Read them. Google them.\n",
    "* Errors and Exceptions seperate:\n",
    "    * what's supposed to happen, from...\n",
    "    * ...what can go wrong\n",
    "* Handle exceptions by using `try` and `except`\n",
    "* `raise` errors to signal to user something went wrong"
   ]
  },
  {
   "cell_type": "code",
   "execution_count": null,
   "id": "22b4ba32",
   "metadata": {},
   "outputs": [],
   "source": [
    "\n"
   ]
  },
  {
   "cell_type": "code",
   "execution_count": null,
   "id": "0c298dbc",
   "metadata": {},
   "outputs": [],
   "source": []
  }
 ],
 "metadata": {
  "celltoolbar": "Slideshow",
  "kernelspec": {
   "display_name": "Python 3 (ipykernel)",
   "language": "python",
   "name": "python3"
  },
  "language_info": {
   "codemirror_mode": {
    "name": "ipython",
    "version": 3
   },
   "file_extension": ".py",
   "mimetype": "text/x-python",
   "name": "python",
   "nbconvert_exporter": "python",
   "pygments_lexer": "ipython3",
   "version": "3.9.7"
  }
 },
 "nbformat": 4,
 "nbformat_minor": 5
}
